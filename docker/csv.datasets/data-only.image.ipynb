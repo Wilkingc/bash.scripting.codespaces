{
 "cells": [
  {
   "cell_type": "code",
   "execution_count": 1,
   "id": "b30b16b2-2383-4fc3-b3c7-1f2ef504f104",
   "metadata": {},
   "outputs": [
    {
     "name": "stdout",
     "output_type": "stream",
     "text": [
      "+ docker image build --tag csv_datasets ./.\n",
      "\u001b[1A\u001b[1B\u001b[0G\u001b[?25l[+] Building 0.0s (0/1)                                          docker:default\n",
      "\u001b[?25h\u001b[1A\u001b[0G\u001b[?25l[+] Building 0.1s (2/3)                                          docker:default\n",
      "\u001b[34m => [internal] load build definition from Dockerfile                       0.1s\n",
      "\u001b[0m\u001b[34m => => transferring dockerfile: 731B                                       0.0s\n",
      "\u001b[0m\u001b[34m => [internal] load .dockerignore                                          0.1s\n",
      "\u001b[0m\u001b[34m => => transferring context: 2B                                            0.0s\n",
      "\u001b[0m => [internal] load metadata for docker.io/library/ubuntu:22.04            0.0s\n",
      "\u001b[?25h\u001b[1A\u001b[1A\u001b[1A\u001b[1A\u001b[1A\u001b[1A\u001b[0G\u001b[?25l[+] Building 0.4s (13/13)                                        docker:default\n",
      "\u001b[34m => [internal] load build definition from Dockerfile                       0.1s\n",
      "\u001b[0m\u001b[34m => => transferring dockerfile: 731B                                       0.0s\n",
      "\u001b[0m\u001b[34m => [internal] load .dockerignore                                          0.1s\n",
      "\u001b[0m\u001b[34m => => transferring context: 2B                                            0.0s\n",
      "\u001b[0m\u001b[34m => [internal] load metadata for docker.io/library/ubuntu:22.04            0.0s\n",
      "\u001b[0m\u001b[34m => [data 1/6] FROM docker.io/library/ubuntu:22.04                         0.0s\n",
      "\u001b[0m\u001b[34m => [internal] load build context                                          0.0s\n",
      "\u001b[0m\u001b[34m => => transferring context: 32B                                           0.0s\n",
      "\u001b[0m\u001b[34m => CACHED [data 2/6] RUN apt-get update && apt-get install -y curl        0.0s\n",
      "\u001b[0m\u001b[34m => CACHED [data 3/6] WORKDIR /data                                        0.0s\n",
      "\u001b[0m\u001b[34m => CACHED [data 4/6] RUN curl -L -s -o titanic.csv 'https://ddc-datascie  0.0s\n",
      "\u001b[0m\u001b[34m => CACHED [data 5/6] RUN curl -L -s -o a-z.01-1k.tsv 'https://ddc-datasc  0.0s\n",
      "\u001b[0m\u001b[34m => CACHED [data 6/6] RUN curl -L -s -o a-z.combined.tsv 'https://ddc-dat  0.0s\n",
      "\u001b[0m\u001b[34m => CACHED [stage-1 1/2] COPY --from=data /data /data                      0.0s\n",
      "\u001b[0m\u001b[34m => CACHED [stage-1 2/2] COPY Dockerfile /                                 0.0s\n",
      "\u001b[0m\u001b[34m => exporting to image                                                     0.0s\n",
      "\u001b[0m\u001b[34m => => exporting layers                                                    0.0s\n",
      "\u001b[0m\u001b[34m => => writing image sha256:8c5ddb24d5e3117b6745320e77a3c4cd770dd32768c30  0.0s\n",
      "\u001b[0m\u001b[34m => => naming to docker.io/library/csv_datasets                            0.0s\n",
      "\u001b[0m\u001b[?25h\u001b[1A\u001b[1A\u001b[1A\u001b[1A\u001b[1A\u001b[1A\u001b[1A\u001b[1A\u001b[1A\u001b[1A\u001b[1A\u001b[1A\u001b[1A\u001b[1A\u001b[1A\u001b[1A\u001b[1A\u001b[1A\u001b[1A\u001b[1A\u001b[0G\u001b[?25l[+] Building 0.4s (13/13) FINISHED                               docker:default\n",
      "\u001b[34m => [internal] load build definition from Dockerfile                       0.1s\n",
      "\u001b[0m\u001b[34m => => transferring dockerfile: 731B                                       0.0s\n",
      "\u001b[0m\u001b[34m => [internal] load .dockerignore                                          0.1s\n",
      "\u001b[0m\u001b[34m => => transferring context: 2B                                            0.0s\n",
      "\u001b[0m\u001b[34m => [internal] load metadata for docker.io/library/ubuntu:22.04            0.0s\n",
      "\u001b[0m\u001b[34m => [data 1/6] FROM docker.io/library/ubuntu:22.04                         0.0s\n",
      "\u001b[0m\u001b[34m => [internal] load build context                                          0.0s\n",
      "\u001b[0m\u001b[34m => => transferring context: 32B                                           0.0s\n",
      "\u001b[0m\u001b[34m => CACHED [data 2/6] RUN apt-get update && apt-get install -y curl        0.0s\n",
      "\u001b[0m\u001b[34m => CACHED [data 3/6] WORKDIR /data                                        0.0s\n",
      "\u001b[0m\u001b[34m => CACHED [data 4/6] RUN curl -L -s -o titanic.csv 'https://ddc-datascie  0.0s\n",
      "\u001b[0m\u001b[34m => CACHED [data 5/6] RUN curl -L -s -o a-z.01-1k.tsv 'https://ddc-datasc  0.0s\n",
      "\u001b[0m\u001b[34m => CACHED [data 6/6] RUN curl -L -s -o a-z.combined.tsv 'https://ddc-dat  0.0s\n",
      "\u001b[0m\u001b[34m => CACHED [stage-1 1/2] COPY --from=data /data /data                      0.0s\n",
      "\u001b[0m\u001b[34m => CACHED [stage-1 2/2] COPY Dockerfile /                                 0.0s\n",
      "\u001b[0m\u001b[34m => exporting to image                                                     0.0s\n",
      "\u001b[0m\u001b[34m => => exporting layers                                                    0.0s\n",
      "\u001b[0m\u001b[34m => => writing image sha256:8c5ddb24d5e3117b6745320e77a3c4cd770dd32768c30  0.0s\n",
      "\u001b[0m\u001b[34m => => naming to docker.io/library/csv_datasets                            0.0s\n",
      "\u001b[0m\u001b[?25h\n",
      "+ docker image list -a\n",
      "REPOSITORY              TAG       IMAGE ID       CREATED          SIZE\n",
      "csv_datasets            latest    8c5ddb24d5e3   50 minutes ago   39.2MB\n",
      "rwcitek/jupyter.light   latest    bb28c4444196   5 days ago       934MB\n",
      "ubuntu                  22.04     ca2b0f26964c   3 weeks ago      77.9MB\n",
      "ubuntu                  latest    ca2b0f26964c   3 weeks ago      77.9MB\n"
     ]
    }
   ],
   "source": [
    "# create data-only image\n",
    "set -x\n",
    "docker image build --tag csv_datasets ./.\n",
    "docker image list -a\n"
   ]
  },
  {
   "cell_type": "code",
   "execution_count": 2,
   "id": "d5af85a0-224b-495e-b2b7-4144813c31ca",
   "metadata": {},
   "outputs": [
    {
     "name": "stdout",
     "output_type": "stream",
     "text": [
      "+ docker container create --volume data_01:/data --name data_01 csv_datasets :\n",
      "8f8bdc60b1ee8344873639ad0900f845c6007c7c3fcfdf060bf8eaa4caf22c84\n",
      "+ docker container list -a\n",
      "CONTAINER ID   IMAGE                   COMMAND                  CREATED        STATUS       PORTS                      NAMES\n",
      "8f8bdc60b1ee   csv_datasets            \":\"                      1 second ago   Created                                 data_01\n",
      "364590ab72b8   rwcitek/jupyter.light   \"jupyter lab --allow…\"   2 hours ago    Up 2 hours   127.0.0.1:8888->8888/tcp   jupyter\n",
      "+ docker volume list\n",
      "DRIVER    VOLUME NAME\n",
      "local     data_01\n"
     ]
    }
   ],
   "source": [
    "# create named volume with data from instance\n",
    "docker container create --volume data_01:/data --name data_01 csv_datasets : \n",
    "docker container list -a\n",
    "docker volume list\n"
   ]
  },
  {
   "cell_type": "code",
   "execution_count": 3,
   "id": "8318dcab-ecd0-43ef-9158-252060e5b7eb",
   "metadata": {},
   "outputs": [
    {
     "name": "stdout",
     "output_type": "stream",
     "text": [
      "+ docker container export data_01\n",
      "+ tar -tvf data_01.tar\n",
      "-rwxr-xr-x 0/0               0 2024-03-20 04:33 .dockerenv\n",
      "-rw-rw-rw- 0/0             692 2024-03-20 02:44 Dockerfile\n",
      "drwxr-xr-x 0/0               0 2024-03-20 03:43 data/\n",
      "-rw-r--r-- 0/0         1006550 2024-03-20 03:43 data/a-z.01-1k.tsv\n",
      "-rw-r--r-- 0/0        38138507 2024-03-20 03:43 data/a-z.combined.tsv\n",
      "-rw-r--r-- 0/0           61194 2024-03-20 03:42 data/titanic.csv\n",
      "drwxr-xr-x 0/0               0 2024-03-20 04:33 dev/\n",
      "-rwxr-xr-x 0/0               0 2024-03-20 04:33 dev/console\n",
      "drwxr-xr-x 0/0               0 2024-03-20 04:33 dev/pts/\n",
      "drwxr-xr-x 0/0               0 2024-03-20 04:33 dev/shm/\n",
      "drwxr-xr-x 0/0               0 2024-03-20 04:33 etc/\n",
      "-rwxr-xr-x 0/0               0 2024-03-20 04:33 etc/hostname\n",
      "-rwxr-xr-x 0/0               0 2024-03-20 04:33 etc/hosts\n",
      "lrwxrwxrwx 0/0               0 2024-03-20 04:33 etc/mtab -> /proc/mounts\n",
      "-rwxr-xr-x 0/0               0 2024-03-20 04:33 etc/resolv.conf\n",
      "drwxr-xr-x 0/0               0 2024-03-20 04:33 proc/\n",
      "drwxr-xr-x 0/0               0 2024-03-20 04:33 sys/\n"
     ]
    }
   ],
   "source": [
    "# create tar file from instance\n",
    "docker container export data_01 > data_01.tar\n",
    "tar -tvf data_01.tar\n"
   ]
  },
  {
   "cell_type": "code",
   "execution_count": 4,
   "id": "749fc311-7808-4844-bd07-4583cd1441d1",
   "metadata": {},
   "outputs": [
    {
     "name": "stdout",
     "output_type": "stream",
     "text": [
      "+ docker image import data_01.tar data:01\n",
      "sha256:523cac367e0808c6d41e192c7992349c54443107f961895b1c1f4f02b5f09a08\n",
      "+ docker image list -a\n",
      "REPOSITORY              TAG       IMAGE ID       CREATED                  SIZE\n",
      "data                    01        523cac367e08   Less than a second ago   39.2MB\n",
      "csv_datasets            latest    8c5ddb24d5e3   50 minutes ago           39.2MB\n",
      "rwcitek/jupyter.light   latest    bb28c4444196   5 days ago               934MB\n",
      "ubuntu                  22.04     ca2b0f26964c   3 weeks ago              77.9MB\n",
      "ubuntu                  latest    ca2b0f26964c   3 weeks ago              77.9MB\n"
     ]
    }
   ],
   "source": [
    "# create image from tar file\n",
    "docker image import data_01.tar data:01\n",
    "docker image list -a\n"
   ]
  },
  {
   "cell_type": "code",
   "execution_count": 5,
   "id": "31996794-f432-4950-a346-ac361f912186",
   "metadata": {},
   "outputs": [
    {
     "name": "stdout",
     "output_type": "stream",
     "text": [
      "+ tar -tvf data_01.tar data/\n",
      "drwxr-xr-x 0/0               0 2024-03-20 03:43 data/\n",
      "-rw-r--r-- 0/0         1006550 2024-03-20 03:43 data/a-z.01-1k.tsv\n",
      "-rw-r--r-- 0/0        38138507 2024-03-20 03:43 data/a-z.combined.tsv\n",
      "-rw-r--r-- 0/0           61194 2024-03-20 03:42 data/titanic.csv\n",
      "+ tar -xvf data_01.tar data/\n",
      "data/\n",
      "data/a-z.01-1k.tsv\n",
      "data/a-z.combined.tsv\n",
      "data/titanic.csv\n"
     ]
    }
   ],
   "source": [
    "# extract data from tar file\n",
    "tar -tvf data_01.tar data/\n",
    "tar -xvf data_01.tar data/\n"
   ]
  },
  {
   "cell_type": "code",
   "execution_count": 6,
   "id": "5e528fe1-2969-428f-abb2-5cb9f69bf148",
   "metadata": {},
   "outputs": [
    {
     "name": "stdout",
     "output_type": "stream",
     "text": [
      "+ touch data/data02.txt\n",
      "+ tar -cvf data_02.tar data\n",
      "data/\n",
      "data/data02.txt\n",
      "data/a-z.01-1k.tsv\n",
      "data/titanic.csv\n",
      "data/a-z.combined.tsv\n",
      "+ tar -tvf data_02.tar\n",
      "drwxr-xr-x root/root         0 2024-03-20 04:33 data/\n",
      "-rw-rw-rw- root/root         0 2024-03-20 04:33 data/data02.txt\n",
      "-rw-r--r-- root/root   1006550 2024-03-20 03:43 data/a-z.01-1k.tsv\n",
      "-rw-r--r-- root/root     61194 2024-03-20 03:42 data/titanic.csv\n",
      "-rw-r--r-- root/root  38138507 2024-03-20 03:43 data/a-z.combined.tsv\n"
     ]
    }
   ],
   "source": [
    "# create tar file from data folder\n",
    "touch data/data02.txt\n",
    "tar -cvf data_02.tar data\n",
    "tar -tvf data_02.tar \n"
   ]
  },
  {
   "cell_type": "code",
   "execution_count": 7,
   "id": "52087a9e-528e-43b8-8df0-f2e998f509a0",
   "metadata": {},
   "outputs": [
    {
     "name": "stdout",
     "output_type": "stream",
     "text": [
      "+ docker image import data_02.tar data:02\n",
      "sha256:fbcaa9ef066b2a1a2bd08fc033f163e13b66175a0f38eee687cf984c4841103c\n",
      "+ docker image list -a\n",
      "REPOSITORY              TAG       IMAGE ID       CREATED                  SIZE\n",
      "data                    02        fbcaa9ef066b   Less than a second ago   39.2MB\n",
      "data                    01        523cac367e08   1 second ago             39.2MB\n",
      "csv_datasets            latest    8c5ddb24d5e3   50 minutes ago           39.2MB\n",
      "rwcitek/jupyter.light   latest    bb28c4444196   5 days ago               934MB\n",
      "ubuntu                  22.04     ca2b0f26964c   3 weeks ago              77.9MB\n",
      "ubuntu                  latest    ca2b0f26964c   3 weeks ago              77.9MB\n"
     ]
    }
   ],
   "source": [
    "# create image from tar file\n",
    "docker image import data_02.tar data:02\n",
    "docker image list -a\n"
   ]
  },
  {
   "cell_type": "code",
   "execution_count": 8,
   "id": "0de42e99-7f0b-40d4-98ba-b0c6b842470f",
   "metadata": {},
   "outputs": [
    {
     "name": "stdout",
     "output_type": "stream",
     "text": [
      "+ docker container create --volume data_02:/data --name data_02 data:02 :\n",
      "84b18f26ccd5b65510df11fdc57a0dbc7581e41ddc4d93035b88648f8e3c3d0d\n",
      "+ docker container list -a\n",
      "CONTAINER ID   IMAGE                   COMMAND                  CREATED         STATUS       PORTS                      NAMES\n",
      "84b18f26ccd5   data:02                 \":\"                      1 second ago    Created                                 data_02\n",
      "8f8bdc60b1ee   csv_datasets            \":\"                      4 seconds ago   Created                                 data_01\n",
      "364590ab72b8   rwcitek/jupyter.light   \"jupyter lab --allow…\"   2 hours ago     Up 2 hours   127.0.0.1:8888->8888/tcp   jupyter\n",
      "+ docker volume list\n",
      "DRIVER    VOLUME NAME\n",
      "local     data_01\n",
      "local     data_02\n"
     ]
    }
   ],
   "source": [
    "# create volume from image\n",
    "docker container create --volume data_02:/data --name data_02 data:02 :\n",
    "docker container list -a\n",
    "docker volume list\n"
   ]
  },
  {
   "cell_type": "code",
   "execution_count": 9,
   "id": "c417f2f3-202b-47aa-8653-974efd35f16b",
   "metadata": {},
   "outputs": [
    {
     "name": "stdout",
     "output_type": "stream",
     "text": [
      "+ docker container run --volume data_02:/data --rm -it ubuntu ls -lA / /data\n",
      "/:\n",
      "total 52\n",
      "-rwxr-xr-x   1 root root    0 Mar 20 04:33 .dockerenv\n",
      "lrwxrwxrwx   1 root root    7 Feb 27 15:59 bin -> usr/bin\n",
      "drwxr-xr-x   2 root root 4096 Apr 18  2022 boot\n",
      "drwxr-xr-x   2 root root 4096 Mar 20 04:33 data\n",
      "drwxr-xr-x   5 root root  360 Mar 20 04:33 dev\n",
      "drwxr-xr-x   1 root root 4096 Mar 20 04:33 etc\n",
      "drwxr-xr-x   2 root root 4096 Apr 18  2022 home\n",
      "lrwxrwxrwx   1 root root    7 Feb 27 15:59 lib -> usr/lib\n",
      "lrwxrwxrwx   1 root root    9 Feb 27 15:59 lib32 -> usr/lib32\n",
      "lrwxrwxrwx   1 root root    9 Feb 27 15:59 lib64 -> usr/lib64\n",
      "lrwxrwxrwx   1 root root   10 Feb 27 15:59 libx32 -> usr/libx32\n",
      "drwxr-xr-x   2 root root 4096 Feb 27 15:59 media\n",
      "drwxr-xr-x   2 root root 4096 Feb 27 15:59 mnt\n",
      "drwxr-xr-x   2 root root 4096 Feb 27 15:59 opt\n",
      "dr-xr-xr-x 230 root root    0 Mar 20 04:33 proc\n",
      "drwx------   2 root root 4096 Feb 27 16:02 root\n",
      "drwxr-xr-x   5 root root 4096 Feb 27 16:03 run\n",
      "lrwxrwxrwx   1 root root    8 Feb 27 15:59 sbin -> usr/sbin\n",
      "drwxr-xr-x   2 root root 4096 Feb 27 15:59 srv\n",
      "dr-xr-xr-x  12 root root    0 Mar 20 04:33 sys\n",
      "drwxrwxrwt   2 root root 4096 Feb 27 16:02 tmp\n",
      "drwxr-xr-x  14 root root 4096 Feb 27 15:59 usr\n",
      "drwxr-xr-x  11 root root 4096 Feb 27 16:02 var\n",
      "\n",
      "/data:\n",
      "total 38296\n",
      "-rw-r--r-- 1 root root  1006550 Mar 20 03:43 a-z.01-1k.tsv\n",
      "-rw-r--r-- 1 root root 38138507 Mar 20 03:43 a-z.combined.tsv\n",
      "-rw-rw-rw- 1 root root        0 Mar 20 04:33 data02.txt\n",
      "-rw-r--r-- 1 root root    61194 Mar 20 03:42 titanic.csv\n"
     ]
    }
   ],
   "source": [
    "# show data in volume\n",
    "docker container run --volume data_02:/data --rm -it ubuntu ls -lA / /data\n"
   ]
  },
  {
   "cell_type": "code",
   "execution_count": 10,
   "id": "9a8abd29-b617-418a-abed-090cfce8688e",
   "metadata": {},
   "outputs": [
    {
     "name": "stdout",
     "output_type": "stream",
     "text": [
      "+ docker container rm data_01 data_02\n",
      "data_01\n",
      "data_02\n",
      "+ docker volume rm data_01 data_02\n",
      "data_01\n",
      "data_02\n",
      "+ docker image rm data:01 data:02\n",
      "Untagged: data:01\n",
      "Deleted: sha256:523cac367e0808c6d41e192c7992349c54443107f961895b1c1f4f02b5f09a08\n",
      "Deleted: sha256:08f39736743e9e71638475f548b2571b57da4b640d689287038ec5fff3f7ab44\n",
      "Untagged: data:02\n",
      "Deleted: sha256:fbcaa9ef066b2a1a2bd08fc033f163e13b66175a0f38eee687cf984c4841103c\n",
      "Deleted: sha256:4738247a843586b0f30d49e195f02d2e558c6cc835ebf7c4604db7a20bb87ad5\n",
      "+ rm -rf data data_01.tar data_02.tar\n"
     ]
    }
   ],
   "source": [
    "# clean up\n",
    "docker container rm data_01 data_02\n",
    "docker volume rm data_01 data_02\n",
    "docker image rm data:01 data:02\n",
    "rm -rf data*"
   ]
  },
  {
   "cell_type": "code",
   "execution_count": 11,
   "id": "71fb5195-ca41-4005-af58-ffbd03e6748e",
   "metadata": {},
   "outputs": [
    {
     "name": "stdout",
     "output_type": "stream",
     "text": [
      "+ docker image list -a\n",
      "REPOSITORY              TAG       IMAGE ID       CREATED          SIZE\n",
      "csv_datasets            latest    8c5ddb24d5e3   50 minutes ago   39.2MB\n",
      "rwcitek/jupyter.light   latest    bb28c4444196   5 days ago       934MB\n",
      "ubuntu                  22.04     ca2b0f26964c   3 weeks ago      77.9MB\n",
      "ubuntu                  latest    ca2b0f26964c   3 weeks ago      77.9MB\n",
      "+ docker container list -a\n",
      "CONTAINER ID   IMAGE                   COMMAND                  CREATED       STATUS       PORTS                      NAMES\n",
      "364590ab72b8   rwcitek/jupyter.light   \"jupyter lab --allow…\"   2 hours ago   Up 2 hours   127.0.0.1:8888->8888/tcp   jupyter\n",
      "+ docker volume list\n",
      "DRIVER    VOLUME NAME\n",
      "+ ls --color=auto -lA\n",
      "total 24\n",
      "drwxrwxrwx+ 2 root root  4096 Mar 20 04:19 .ipynb_checkpoints\n",
      "-rw-rw-rw-  1 1000 root   692 Mar 20 02:44 Dockerfile\n",
      "-rw-rw-rw-  1 root root 13590 Mar 20 04:31 Untitled.ipynb\n"
     ]
    }
   ],
   "source": [
    "# verify clean up\n",
    "docker image list -a\n",
    "docker container list -a\n",
    "docker volume list\n",
    "ls -lA\n"
   ]
  },
  {
   "cell_type": "code",
   "execution_count": null,
   "id": "5003fc11-3770-42fb-8869-aadd4b998f39",
   "metadata": {},
   "outputs": [],
   "source": []
  }
 ],
 "metadata": {
  "kernelspec": {
   "display_name": "Bash",
   "language": "bash",
   "name": "bash"
  },
  "language_info": {
   "codemirror_mode": "shell",
   "file_extension": ".sh",
   "mimetype": "text/x-sh",
   "name": "bash"
  }
 },
 "nbformat": 4,
 "nbformat_minor": 5
}
