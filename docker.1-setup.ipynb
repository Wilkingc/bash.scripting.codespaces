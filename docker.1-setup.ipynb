{
 "cells": [
  {
   "attachments": {},
   "cell_type": "markdown",
   "id": "fde8311e",
   "metadata": {},
   "source": [
    "# Logging in to DockerHub\n"
   ]
  },
  {
   "attachments": {},
   "cell_type": "markdown",
   "id": "0950ce40",
   "metadata": {},
   "source": [
    "This not only logs in to DockerHub, but also creates the necessary ~/.docker/config.json file."
   ]
  },
  {
   "attachments": {},
   "cell_type": "markdown",
   "id": "ac8cd6f1",
   "metadata": {},
   "source": [
    "Set your DockerHub username as a variable."
   ]
  },
  {
   "cell_type": "code",
   "execution_count": 1,
   "id": "ccda941e",
   "metadata": {
    "vscode": {
     "languageId": "shellscript"
    }
   },
   "outputs": [],
   "source": [
    "import getpass"
   ]
  },
  {
   "cell_type": "code",
   "execution_count": 12,
   "id": "b665d740",
   "metadata": {
    "vscode": {
     "languageId": "shellscript"
    }
   },
   "outputs": [],
   "source": [
    "dh_user = input(\"Enter DockerHuber username: \")"
   ]
  },
  {
   "cell_type": "code",
   "execution_count": 3,
   "id": "5e76bdb9",
   "metadata": {
    "vscode": {
     "languageId": "shellscript"
    }
   },
   "outputs": [],
   "source": [
    "dh_password = getpass.getpass(\"Enter DockerHub password: \")"
   ]
  },
  {
   "cell_type": "code",
   "execution_count": 24,
   "id": "b376be8e",
   "metadata": {
    "vscode": {
     "languageId": "shellscript"
    }
   },
   "outputs": [],
   "source": [
    "!echo dh_user=\"{dh_user}\" > ~/.docker/config.rc\n",
    "!echo dh_password=\\\"\"{dh_password}\"\\\" >> ~/.docker/config.rc"
   ]
  },
  {
   "cell_type": "code",
   "execution_count": 16,
   "id": "6d677f84",
   "metadata": {
    "vscode": {
     "languageId": "shellscript"
    }
   },
   "outputs": [
    {
     "name": "stdout",
     "output_type": "stream",
     "text": [
      "WARNING! Your password will be stored unencrypted in /home/codespace/.docker/config.json.\n",
      "Configure a credential helper to remove this warning. See\n",
      "https://docs.docker.com/engine/reference/commandline/login/#credentials-store\n",
      "\n",
      "Login Succeeded\n"
     ]
    }
   ],
   "source": [
    "!<<< \"{dh_password}\" docker login --username \"{dh_user}\" --password-stdin"
   ]
  }
 ],
 "metadata": {
  "kernelspec": {
   "display_name": "Python 3",
   "language": "python",
   "name": "python3"
  },
  "language_info": {
   "codemirror_mode": {
    "name": "ipython",
    "version": 3
   },
   "file_extension": ".py",
   "mimetype": "text/x-python",
   "name": "python",
   "nbconvert_exporter": "python",
   "pygments_lexer": "ipython3",
   "version": "3.10.4"
  }
 },
 "nbformat": 4,
 "nbformat_minor": 5
}
