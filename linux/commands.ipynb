{
  "cells": [
    {
      "attachments": {},
      "cell_type": "markdown",
      "metadata": {
        "id": "foURYcvwm_3t"
      },
      "source": [
        "# Fundamental shell commands\n",
        "\n"
      ]
    },
    {
      "cell_type": "markdown",
      "metadata": {},
      "source": [
        "## References"
      ]
    },
    {
      "cell_type": "markdown",
      "metadata": {},
      "source": [
        "- [Linux Phrasebook, Second Edition](https://learning.oreilly.com/library/view/linux-phrasebook-second/9780133038576/cover.html)"
      ]
    },
    {
      "cell_type": "markdown",
      "metadata": {},
      "source": [
        "## Setup"
      ]
    },
    {
      "cell_type": "markdown",
      "metadata": {},
      "source": [
        "Run `../bash.setup.sh` in the terminal to install the bash kernel for Jupyter notebooks."
      ]
    },
    {
      "cell_type": "code",
      "execution_count": null,
      "metadata": {
        "vscode": {
          "languageId": "shellscript"
        }
      },
      "outputs": [],
      "source": [
        "%%capture output\n",
        "%%bash\n",
        "sudo apt-get update\n",
        "sudo apt-get install -y wamerican-insane\n",
        "\n",
        "ls -la /usr/share/dict/\n",
        "wc /usr/share/dict/words\n"
      ]
    },
    {
      "attachments": {},
      "cell_type": "markdown",
      "metadata": {},
      "source": [
        "## Data flow\n"
      ]
    },
    {
      "attachments": {},
      "cell_type": "markdown",
      "metadata": {},
      "source": [
        "- redirection( <<<, <<, <, <() , |, >, >>)\n",
        "- grouping (), {}\n",
        "- /dev/null\n",
        "- /dev/urandom\n",
        "\n",
        "These are used to stich together other commands.\n",
        "We'll use these in examples below."
      ]
    },
    {
      "attachments": {},
      "cell_type": "markdown",
      "metadata": {},
      "source": [
        "## Generators\n"
      ]
    },
    {
      "attachments": {},
      "cell_type": "markdown",
      "metadata": {},
      "source": [
        "- echo\n",
        "- printf\n",
        "- seq\n",
        "- date\n",
        "- yes\n",
        "- bc\n",
        "- xargs\n"
      ]
    },
    {
      "cell_type": "code",
      "execution_count": 69,
      "metadata": {
        "vscode": {
          "languageId": "shellscript"
        }
      },
      "outputs": [
        {
          "name": "stdout",
          "output_type": "stream",
          "text": [
            "Hello, world\n"
          ]
        }
      ],
      "source": [
        "# Generate some output\n",
        "echo \"Hello, world\""
      ]
    },
    {
      "cell_type": "code",
      "execution_count": 70,
      "metadata": {
        "vscode": {
          "languageId": "shellscript"
        }
      },
      "outputs": [
        {
          "name": "stdout",
          "output_type": "stream",
          "text": [
            "Hello, world\n"
          ]
        }
      ],
      "source": [
        "printf \"Hello, world\""
      ]
    },
    {
      "cell_type": "code",
      "execution_count": 71,
      "metadata": {
        "vscode": {
          "languageId": "shellscript"
        }
      },
      "outputs": [
        {
          "name": "stdout",
          "output_type": "stream",
          "text": [
            "1\n",
            "2\n",
            "3\n",
            "4\n",
            "5\n",
            "6\n",
            "7\n",
            "8\n",
            "9\n",
            "10\n"
          ]
        }
      ],
      "source": [
        "# Generate a sequence of numbers\n",
        "seq 1 10"
      ]
    },
    {
      "cell_type": "code",
      "execution_count": 72,
      "metadata": {
        "vscode": {
          "languageId": "shellscript"
        }
      },
      "outputs": [
        {
          "name": "stdout",
          "output_type": "stream",
          "text": [
            "Mon Apr 24 19:48:00 UTC 2023\n"
          ]
        }
      ],
      "source": [
        "# Output the current date and time, often in the local time zone\n",
        "date"
      ]
    },
    {
      "cell_type": "code",
      "execution_count": 75,
      "metadata": {
        "vscode": {
          "languageId": "shellscript"
        }
      },
      "outputs": [
        {
          "name": "stdout",
          "output_type": "stream",
          "text": [
            "10\n",
            "10\n",
            "10\n",
            "10\n",
            "10\n",
            "yes: standard output: Broken pipe\n"
          ]
        }
      ],
      "source": [
        "# 'yes' goes on forever until stoped, i.e. an infinite loop\n",
        "# here 'head' is used to stop 'yes'\n",
        "yes 10 | head -5"
      ]
    },
    {
      "cell_type": "code",
      "execution_count": 76,
      "metadata": {
        "vscode": {
          "languageId": "shellscript"
        }
      },
      "outputs": [
        {
          "name": "stdout",
          "output_type": "stream",
          "text": [
            "2\n"
          ]
        }
      ],
      "source": [
        "# pipe commands into 'bc', a calculator\n",
        "echo 1 + 1 | bc"
      ]
    },
    {
      "cell_type": "code",
      "execution_count": 77,
      "metadata": {
        "vscode": {
          "languageId": "shellscript"
        }
      },
      "outputs": [
        {
          "name": "stdout",
          "output_type": "stream",
          "text": [
            "1 2 3 4 5 6 7 8 9 10\n"
          ]
        }
      ],
      "source": [
        "# turns rows into columns\n",
        "# more accurately, turns a list of lines into arguments to commands\n",
        "seq 1 10 | xargs echo"
      ]
    },
    {
      "attachments": {},
      "cell_type": "markdown",
      "metadata": {},
      "source": [
        "## Filesystem\n"
      ]
    },
    {
      "attachments": {},
      "cell_type": "markdown",
      "metadata": {},
      "source": [
        "- tree\n",
        "- find\n",
        "- df \n",
        "- du\n"
      ]
    },
    {
      "cell_type": "code",
      "execution_count": 78,
      "metadata": {
        "vscode": {
          "languageId": "shellscript"
        }
      },
      "outputs": [
        {
          "name": "stdout",
          "output_type": "stream",
          "text": [
            "/etc/apt\n",
            "├── apt.conf.d\n",
            "│   ├── 01-vendor-ubuntu\n",
            "│   ├── 01autoremove\n",
            "│   ├── 20packagekit\n",
            "│   ├── 70debconf\n",
            "│   ├── docker-autoremove-suggests\n",
            "│   ├── docker-clean\n",
            "│   ├── docker-gzip-indexes\n",
            "│   └── docker-no-languages\n",
            "├── auth.conf.d\n",
            "├── preferences.d\n",
            "├── sources.list\n",
            "├── sources.list.d\n",
            "│   ├── conda.list\n",
            "│   ├── git-lfs.list\n",
            "│   ├── microsoft.list\n",
            "│   └── yarn.list\n",
            "└── trusted.gpg.d\n",
            "    ├── ubuntu-keyring-2012-archive.gpg\n",
            "    ├── ubuntu-keyring-2012-cdimage.gpg\n",
            "    └── ubuntu-keyring-2018-archive.gpg\n",
            "\n",
            "5 directories, 16 files\n"
          ]
        }
      ],
      "source": [
        "# Create a graphical tree of a folder and its files and subfolders\n",
        "tree /etc/apt"
      ]
    },
    {
      "cell_type": "code",
      "execution_count": 79,
      "metadata": {
        "vscode": {
          "languageId": "shellscript"
        }
      },
      "outputs": [
        {
          "name": "stdout",
          "output_type": "stream",
          "text": [
            "/etc/apt/sources.list\n",
            "/etc/apt/trusted.gpg.d/ubuntu-keyring-2012-archive.gpg\n",
            "/etc/apt/trusted.gpg.d/ubuntu-keyring-2018-archive.gpg\n",
            "/etc/apt/trusted.gpg.d/ubuntu-keyring-2012-cdimage.gpg\n",
            "/etc/apt/apt.conf.d/docker-autoremove-suggests\n",
            "/etc/apt/apt.conf.d/70debconf\n",
            "/etc/apt/apt.conf.d/docker-clean\n",
            "/etc/apt/apt.conf.d/docker-no-languages\n",
            "/etc/apt/apt.conf.d/01autoremove\n",
            "/etc/apt/apt.conf.d/01-vendor-ubuntu\n",
            "/etc/apt/apt.conf.d/docker-gzip-indexes\n",
            "/etc/apt/apt.conf.d/20packagekit\n",
            "/etc/apt/sources.list.d/microsoft.list\n",
            "/etc/apt/sources.list.d/git-lfs.list\n",
            "/etc/apt/sources.list.d/conda.list\n",
            "/etc/apt/sources.list.d/yarn.list\n"
          ]
        }
      ],
      "source": [
        "# generate a list of files by traversing the filesystem, starting at a specific folder\n",
        "find /etc/apt -type f"
      ]
    },
    {
      "cell_type": "code",
      "execution_count": 81,
      "metadata": {
        "vscode": {
          "languageId": "shellscript"
        }
      },
      "outputs": [
        {
          "name": "stdout",
          "output_type": "stream",
          "text": [
            "   49   323  2743 /etc/apt/sources.list\n",
            "   21    72  2796 /etc/apt/trusted.gpg.d/ubuntu-keyring-2012-archive.gpg\n",
            "   15    54  1733 /etc/apt/trusted.gpg.d/ubuntu-keyring-2018-archive.gpg\n",
            "   17    69  2794 /etc/apt/trusted.gpg.d/ubuntu-keyring-2012-cdimage.gpg\n",
            "    1     2    44 /etc/apt/apt.conf.d/docker-autoremove-suggests\n",
            "    3    24   182 /etc/apt/apt.conf.d/70debconf\n",
            "    3    24   318 /etc/apt/apt.conf.d/docker-clean\n",
            "    1     2    27 /etc/apt/apt.conf.d/docker-no-languages\n",
            "   41    41   630 /etc/apt/apt.conf.d/01autoremove\n",
            "    2     4    92 /etc/apt/apt.conf.d/01-vendor-ubuntu\n",
            "    1     4    70 /etc/apt/apt.conf.d/docker-gzip-indexes\n",
            "   13   102  1040 /etc/apt/apt.conf.d/20packagekit\n",
            "    1     6   153 /etc/apt/sources.list.d/microsoft.list\n",
            "    2    12   266 /etc/apt/sources.list.d/git-lfs.list\n",
            "    1     6   135 /etc/apt/sources.list.d/conda.list\n",
            "    1     6   115 /etc/apt/sources.list.d/yarn.list\n",
            "  172   751 13138 total\n"
          ]
        }
      ],
      "source": [
        "find /etc/apt -type f | xargs wc"
      ]
    },
    {
      "cell_type": "code",
      "execution_count": 82,
      "metadata": {
        "vscode": {
          "languageId": "shellscript"
        }
      },
      "outputs": [
        {
          "name": "stdout",
          "output_type": "stream",
          "text": [
            "Filesystem     Type     Size  Used Avail Use% Mounted on\n",
            "overlay        overlay   32G   13G   18G  42% /\n"
          ]
        }
      ],
      "source": [
        "# Display the information about the filesystem given a file or folder on that filesystem\n",
        "df -hTPl /etc/apt"
      ]
    },
    {
      "cell_type": "code",
      "execution_count": 84,
      "metadata": {
        "vscode": {
          "languageId": "shellscript"
        }
      },
      "outputs": [
        {
          "name": "stdout",
          "output_type": "stream",
          "text": [
            "1\t/etc/apt/preferences.d\n",
            "1\t/etc/apt/auth.conf.d\n",
            "1\t/etc/apt/sources.list\n",
            "1\t/etc/apt/trusted.gpg.d/ubuntu-keyring-2012-archive.gpg\n",
            "1\t/etc/apt/trusted.gpg.d/ubuntu-keyring-2018-archive.gpg\n",
            "1\t/etc/apt/trusted.gpg.d/ubuntu-keyring-2012-cdimage.gpg\n",
            "1\t/etc/apt/trusted.gpg.d\n",
            "1\t/etc/apt/apt.conf.d/docker-autoremove-suggests\n",
            "1\t/etc/apt/apt.conf.d/70debconf\n",
            "1\t/etc/apt/apt.conf.d/docker-clean\n",
            "1\t/etc/apt/apt.conf.d/docker-no-languages\n",
            "1\t/etc/apt/apt.conf.d/01autoremove\n",
            "1\t/etc/apt/apt.conf.d/01-vendor-ubuntu\n",
            "1\t/etc/apt/apt.conf.d/docker-gzip-indexes\n",
            "1\t/etc/apt/apt.conf.d/20packagekit\n",
            "1\t/etc/apt/apt.conf.d\n",
            "1\t/etc/apt/sources.list.d/microsoft.list\n",
            "1\t/etc/apt/sources.list.d/git-lfs.list\n",
            "1\t/etc/apt/sources.list.d/conda.list\n",
            "1\t/etc/apt/sources.list.d/yarn.list\n",
            "1\t/etc/apt/sources.list.d\n",
            "1\t/etc/apt\n"
          ]
        }
      ],
      "source": [
        "# show disk usage for descendent files given a folder or file\n",
        "du -m -a /etc/apt"
      ]
    },
    {
      "attachments": {},
      "cell_type": "markdown",
      "metadata": {},
      "source": [
        "## Whole file - metadata\n"
      ]
    },
    {
      "attachments": {},
      "cell_type": "markdown",
      "metadata": {},
      "source": [
        "- wc\n",
        "- file\n",
        "- ls\n",
        "- stat\n"
      ]
    },
    {
      "cell_type": "code",
      "execution_count": 85,
      "metadata": {
        "vscode": {
          "languageId": "shellscript"
        }
      },
      "outputs": [
        {
          "name": "stdout",
          "output_type": "stream",
          "text": [
            " 654895  654895 6878055 /usr/share/dict/words\n"
          ]
        }
      ],
      "source": [
        "# Display the lines, words, and characters in a file\n",
        "wc /usr/share/dict/words"
      ]
    },
    {
      "cell_type": "code",
      "execution_count": 86,
      "metadata": {
        "vscode": {
          "languageId": "shellscript"
        }
      },
      "outputs": [
        {
          "name": "stdout",
          "output_type": "stream",
          "text": [
            "654895\n"
          ]
        }
      ],
      "source": [
        "# redirect input from a file\n",
        "< /usr/share/dict/words wc -l"
      ]
    },
    {
      "cell_type": "code",
      "execution_count": 87,
      "metadata": {
        "vscode": {
          "languageId": "shellscript"
        }
      },
      "outputs": [
        {
          "name": "stdout",
          "output_type": "stream",
          "text": [
            "/usr/share/dict/american-english-insane: UTF-8 Unicode text\n"
          ]
        }
      ],
      "source": [
        "# guess the file type\n",
        "file /usr/share/dict/american-english-insane"
      ]
    },
    {
      "cell_type": "code",
      "execution_count": 88,
      "metadata": {
        "vscode": {
          "languageId": "shellscript"
        }
      },
      "outputs": [
        {
          "name": "stdout",
          "output_type": "stream",
          "text": [
            "-rw-r--r-- 1 root root 6878055 Apr 24  2018 /usr/share/dict/american-english-insane\n"
          ]
        }
      ],
      "source": [
        "# list a file or files\n",
        "ls -la /usr/share/dict/american-english-insane"
      ]
    },
    {
      "cell_type": "code",
      "execution_count": 89,
      "metadata": {
        "vscode": {
          "languageId": "shellscript"
        }
      },
      "outputs": [
        {
          "name": "stdout",
          "output_type": "stream",
          "text": [
            "  File: /usr/share/dict/american-english-insane\n",
            "  Size: 6878055   \tBlocks: 13440      IO Block: 4096   regular file\n",
            "Device: 33h/51d\tInode: 1453440     Links: 1\n",
            "Access: (0644/-rw-r--r--)  Uid: (    0/    root)   Gid: (    0/    root)\n",
            "Access: 2023-04-24 16:17:42.006279297 +0000\n",
            "Modify: 2018-04-24 23:08:24.000000000 +0000\n",
            "Change: 2023-04-24 16:16:48.193973810 +0000\n",
            " Birth: -\n"
          ]
        }
      ],
      "source": [
        "# display the meta-data about a file\n",
        "stat /usr/share/dict/american-english-insane"
      ]
    },
    {
      "attachments": {},
      "cell_type": "markdown",
      "metadata": {},
      "source": [
        "## Line-by-line, usually\n"
      ]
    },
    {
      "attachments": {},
      "cell_type": "markdown",
      "metadata": {},
      "source": [
        "- cat\n",
        "- head\n",
        "- tail\n",
        "- rev\n",
        "- tac\n",
        "- cut\n",
        "- sort\n",
        "- uniq\n",
        "- shuf\n",
        "- grep\n",
        "- column\n",
        "- sed\n"
      ]
    },
    {
      "cell_type": "code",
      "execution_count": 90,
      "metadata": {
        "vscode": {
          "languageId": "shellscript"
        }
      },
      "outputs": [
        {
          "name": "stdout",
          "output_type": "stream",
          "text": [
            "     1\tNAME=\"Ubuntu\"\n",
            "     2\tVERSION=\"20.04.6 LTS (Focal Fossa)\"\n",
            "     3\tID=ubuntu\n",
            "     4\tID_LIKE=debian\n",
            "     5\tPRETTY_NAME=\"Ubuntu 20.04.6 LTS\"\n",
            "     6\tVERSION_ID=\"20.04\"\n",
            "     7\tHOME_URL=\"https://www.ubuntu.com/\"\n",
            "     8\tSUPPORT_URL=\"https://help.ubuntu.com/\"\n",
            "     9\tBUG_REPORT_URL=\"https://bugs.launchpad.net/ubuntu/\"\n",
            "    10\tPRIVACY_POLICY_URL=\"https://www.ubuntu.com/legal/terms-and-policies/privacy-policy\"\n",
            "    11\tVERSION_CODENAME=focal\n",
            "    12\tUBUNTU_CODENAME=focal\n"
          ]
        }
      ],
      "source": [
        "# display the contents of a file or files\n",
        "# 'cat' comes from concatenate\n",
        "cat -n /etc/os-release\n"
      ]
    },
    {
      "cell_type": "code",
      "execution_count": 91,
      "metadata": {
        "vscode": {
          "languageId": "shellscript"
        }
      },
      "outputs": [
        {
          "name": "stdout",
          "output_type": "stream",
          "text": [
            "Hello, world\n"
          ]
        }
      ],
      "source": [
        "# input redirection from string\n",
        "<<< \"Hello, world\" cat"
      ]
    },
    {
      "cell_type": "code",
      "execution_count": 92,
      "metadata": {
        "vscode": {
          "languageId": "shellscript"
        }
      },
      "outputs": [
        {
          "name": "stdout",
          "output_type": "stream",
          "text": [
            "Hello, world\n"
          ]
        }
      ],
      "source": [
        "# here-doc\n",
        "<< 'eof' cat\n",
        "Hello, world\n",
        "eof"
      ]
    },
    {
      "cell_type": "code",
      "execution_count": 93,
      "metadata": {
        "vscode": {
          "languageId": "shellscript"
        }
      },
      "outputs": [
        {
          "name": "stdout",
          "output_type": "stream",
          "text": [
            "NAME=\"Ubuntu\"\n",
            "VERSION=\"20.04.6 LTS (Focal Fossa)\"\n",
            "ID=ubuntu\n",
            "ID_LIKE=debian\n",
            "PRETTY_NAME=\"Ubuntu 20.04.6 LTS\"\n",
            "VERSION_ID=\"20.04\"\n",
            "HOME_URL=\"https://www.ubuntu.com/\"\n",
            "SUPPORT_URL=\"https://help.ubuntu.com/\"\n",
            "BUG_REPORT_URL=\"https://bugs.launchpad.net/ubuntu/\"\n",
            "PRIVACY_POLICY_URL=\"https://www.ubuntu.com/legal/terms-and-policies/privacy-policy\"\n",
            "VERSION_CODENAME=focal\n",
            "UBUNTU_CODENAME=focal\n"
          ]
        }
      ],
      "source": [
        "< /etc/os-release cat"
      ]
    },
    {
      "cell_type": "code",
      "execution_count": 94,
      "metadata": {
        "vscode": {
          "languageId": "shellscript"
        }
      },
      "outputs": [
        {
          "name": "stdout",
          "output_type": "stream",
          "text": [
            "NAME=\"Ubuntu\"\n",
            "VERSION=\"20.04.6 LTS (Focal Fossa)\"\n",
            "ID=ubuntu\n",
            "ID_LIKE=debian\n",
            "PRETTY_NAME=\"Ubuntu 20.04.6 LTS\"\n"
          ]
        }
      ],
      "source": [
        "# diplay the lines at the top (head) of a file\n",
        "head -5 /etc/os-release\n"
      ]
    },
    {
      "cell_type": "code",
      "execution_count": 95,
      "metadata": {
        "vscode": {
          "languageId": "shellscript"
        }
      },
      "outputs": [
        {
          "name": "stdout",
          "output_type": "stream",
          "text": [
            "SUPPORT_URL=\"https://help.ubuntu.com/\"\n",
            "BUG_REPORT_URL=\"https://bugs.launchpad.net/ubuntu/\"\n",
            "PRIVACY_POLICY_URL=\"https://www.ubuntu.com/legal/terms-and-policies/privacy-policy\"\n",
            "VERSION_CODENAME=focal\n",
            "UBUNTU_CODENAME=focal\n"
          ]
        }
      ],
      "source": [
        "# diplay the lines at the bottom (tail) of a file\n",
        "tail -5 /etc/os-release\n"
      ]
    },
    {
      "cell_type": "code",
      "execution_count": 96,
      "metadata": {
        "vscode": {
          "languageId": "shellscript"
        }
      },
      "outputs": [
        {
          "name": "stdout",
          "output_type": "stream",
          "text": [
            "\"utnubU\"=EMAN\n",
            "\")assoF lacoF( STL 6.40.02\"=NOISREV\n",
            "utnubu=DI\n",
            "naibed=EKIL_DI\n",
            "\"STL 6.40.02 utnubU\"=EMAN_YTTERP\n",
            "\"40.02\"=DI_NOISREV\n",
            "\"/moc.utnubu.www//:sptth\"=LRU_EMOH\n",
            "\"/moc.utnubu.pleh//:sptth\"=LRU_TROPPUS\n",
            "\"/utnubu/ten.daphcnual.sgub//:sptth\"=LRU_TROPER_GUB\n",
            "\"ycilop-ycavirp/seicilop-dna-smret/lagel/moc.utnubu.www//:sptth\"=LRU_YCILOP_YCAVIRP\n",
            "lacof=EMANEDOC_NOISREV\n",
            "lacof=EMANEDOC_UTNUBU\n"
          ]
        }
      ],
      "source": [
        "# reverse the sequence of characters on each line\n",
        "rev /etc/os-release\n"
      ]
    },
    {
      "cell_type": "code",
      "execution_count": 97,
      "metadata": {
        "vscode": {
          "languageId": "shellscript"
        }
      },
      "outputs": [
        {
          "name": "stdout",
          "output_type": "stream",
          "text": [
            "UBUNTU_CODENAME=focal\n",
            "VERSION_CODENAME=focal\n",
            "PRIVACY_POLICY_URL=\"https://www.ubuntu.com/legal/terms-and-policies/privacy-policy\"\n",
            "BUG_REPORT_URL=\"https://bugs.launchpad.net/ubuntu/\"\n",
            "SUPPORT_URL=\"https://help.ubuntu.com/\"\n",
            "HOME_URL=\"https://www.ubuntu.com/\"\n",
            "VERSION_ID=\"20.04\"\n",
            "PRETTY_NAME=\"Ubuntu 20.04.6 LTS\"\n",
            "ID_LIKE=debian\n",
            "ID=ubuntu\n",
            "VERSION=\"20.04.6 LTS (Focal Fossa)\"\n",
            "NAME=\"Ubuntu\"\n"
          ]
        }
      ],
      "source": [
        "# display the lines in a file from bottom to top\n",
        "tac /etc/os-release\n"
      ]
    },
    {
      "cell_type": "code",
      "execution_count": 98,
      "metadata": {
        "vscode": {
          "languageId": "shellscript"
        }
      },
      "outputs": [
        {
          "name": "stdout",
          "output_type": "stream",
          "text": [
            "ME=\"U\n",
            "RSION\n",
            "=ubun\n",
            "_LIKE\n",
            "ETTY_\n",
            "RSION\n",
            "ME_UR\n",
            "PPORT\n",
            "G_REP\n",
            "IVACY\n",
            "RSION\n",
            "UNTU_\n"
          ]
        }
      ],
      "source": [
        "# display the characters at a range of byte positions per line\n",
        "cut -c3-7 /etc/os-release"
      ]
    },
    {
      "cell_type": "code",
      "execution_count": 99,
      "metadata": {
        "vscode": {
          "languageId": "shellscript"
        }
      },
      "outputs": [
        {
          "name": "stdout",
          "output_type": "stream",
          "text": [
            "BUG_REPORT_URL=\"https://bugs.launchpad.net/ubuntu/\"\n",
            "HOME_URL=\"https://www.ubuntu.com/\"\n",
            "ID=ubuntu\n",
            "ID_LIKE=debian\n",
            "NAME=\"Ubuntu\"\n",
            "PRETTY_NAME=\"Ubuntu 20.04.6 LTS\"\n",
            "PRIVACY_POLICY_URL=\"https://www.ubuntu.com/legal/terms-and-policies/privacy-policy\"\n",
            "SUPPORT_URL=\"https://help.ubuntu.com/\"\n",
            "UBUNTU_CODENAME=focal\n",
            "VERSION=\"20.04.6 LTS (Focal Fossa)\"\n",
            "VERSION_CODENAME=focal\n",
            "VERSION_ID=\"20.04\"\n"
          ]
        }
      ],
      "source": [
        "# sort and group lines\n",
        "sort /etc/os-release\n"
      ]
    },
    {
      "cell_type": "code",
      "execution_count": 101,
      "metadata": {
        "vscode": {
          "languageId": "shellscript"
        }
      },
      "outputs": [
        {
          "name": "stdout",
          "output_type": "stream",
          "text": [
            "      3 RSION\n",
            "      1 _LIKE\n",
            "      1 UNTU_\n",
            "      1 PPORT\n",
            "      1 ME_UR\n",
            "      1 ME=\"U\n",
            "      1 IVACY\n",
            "      1 G_REP\n",
            "      1 ETTY_\n",
            "      1 =ubun\n"
          ]
        }
      ],
      "source": [
        "# display the unique lines\n",
        "# often used in conjuction with sort, which groups similar lines together\n",
        "cut -c3-7 /etc/os-release | sort | uniq -c | sort -r -n\n"
      ]
    },
    {
      "cell_type": "code",
      "execution_count": 103,
      "metadata": {
        "vscode": {
          "languageId": "shellscript"
        }
      },
      "outputs": [
        {
          "name": "stdout",
          "output_type": "stream",
          "text": [
            "     3\tID=ubuntu\n",
            "     1\tNAME=\"Ubuntu\"\n",
            "     2\tVERSION=\"20.04.6 LTS (Focal Fossa)\"\n",
            "    10\tPRIVACY_POLICY_URL=\"https://www.ubuntu.com/legal/terms-and-policies/privacy-policy\"\n",
            "     5\tPRETTY_NAME=\"Ubuntu 20.04.6 LTS\"\n"
          ]
        }
      ],
      "source": [
        "# randomly select and display lines\n",
        "cat -n /etc/os-release | shuf -n 5 \n"
      ]
    },
    {
      "cell_type": "code",
      "execution_count": 104,
      "metadata": {
        "vscode": {
          "languageId": "shellscript"
        }
      },
      "outputs": [
        {
          "name": "stdout",
          "output_type": "stream",
          "text": [
            "VERSION=\"20.04.6 LTS (Focal Fossa)\"\n",
            "VERSION_ID=\"20.04\"\n",
            "VERSION_CODENAME=focal\n"
          ]
        }
      ],
      "source": [
        "# display lines that match a pattern, i.e. regular expression\n",
        "grep -i vers /etc/os-release\n"
      ]
    },
    {
      "cell_type": "code",
      "execution_count": 105,
      "metadata": {
        "vscode": {
          "languageId": "shellscript"
        }
      },
      "outputs": [
        {
          "name": "stdout",
          "output_type": "stream",
          "text": [
            "VERSION=\n",
            "VERSION_ID=\n",
            "VERSION_CODENAME=\n"
          ]
        }
      ],
      "source": [
        "grep -o -i 'vers.*=' /etc/os-release"
      ]
    },
    {
      "cell_type": "code",
      "execution_count": 106,
      "metadata": {
        "vscode": {
          "languageId": "shellscript"
        }
      },
      "outputs": [
        {
          "name": "stdout",
          "output_type": "stream",
          "text": [
            "NAME                \"Ubuntu\"\n",
            "VERSION             \"20.04.6 LTS (Focal Fossa)\"\n",
            "ID                  ubuntu\n",
            "ID_LIKE             debian\n",
            "PRETTY_NAME         \"Ubuntu 20.04.6 LTS\"\n",
            "VERSION_ID          \"20.04\"\n",
            "HOME_URL            \"https://www.ubuntu.com/\"\n",
            "SUPPORT_URL         \"https://help.ubuntu.com/\"\n",
            "BUG_REPORT_URL      \"https://bugs.launchpad.net/ubuntu/\"\n",
            "PRIVACY_POLICY_URL  \"https://www.ubuntu.com/legal/terms-and-policies/privacy-policy\"\n",
            "VERSION_CODENAME    focal\n",
            "UBUNTU_CODENAME     focal\n"
          ]
        }
      ],
      "source": [
        "# creates space padded tabular data\n",
        "column -s= -t /etc/os-release\n"
      ]
    },
    {
      "cell_type": "code",
      "execution_count": 107,
      "metadata": {
        "vscode": {
          "languageId": "shellscript"
        }
      },
      "outputs": [
        {
          "name": "stdout",
          "output_type": "stream",
          "text": [
            "     1\tNAME=\"stuff\"\n",
            "     2\tVERSION=\"20.04.6 LTS (Focal Fossa)\"\n",
            "     3\tID=stuff\n",
            "     4\tID_LIKE=debian\n",
            "     5\tPRETTY_NAME=\"Ubuntu 20.04.6 LTS\"\n",
            "     6\tVERSION_ID=\"20.04\"\n",
            "     7\tHOME_URL=\"https://www.ubuntu.com/\"\n",
            "     8\tSUPPORT_URL=\"https://help.ubuntu.com/\"\n",
            "     9\tBUG_REPORT_URL=\"https://bugs.launchpad.net/ubuntu/\"\n",
            "    10\tPRIVACY_POLICY_URL=\"https://www.ubuntu.com/legal/terms-and-policies/privacy-policy\"\n",
            "    11\tVERSION_CODENAME=focal\n",
            "    12\tUBUNTU_CODENAME=focal\n"
          ]
        }
      ],
      "source": [
        "# sed == stream editor\n",
        "# used most often for search/replace patterns\n",
        "# format is 'range { action }',\n",
        "#   where range can be a single line number, a range of line numbers ( e.g. 1,3 ), a pattern ( e.g. /id/ ), or a combination\n",
        "#   and an actions are usually single letters, e.g. s (search), p (print), d (delete)\n",
        "sed '1,3 { s/ubuntu/stuff/i }' /etc/os-release | cat -n\n"
      ]
    },
    {
      "attachments": {},
      "cell_type": "markdown",
      "metadata": {},
      "source": [
        "## Line+character\n"
      ]
    },
    {
      "attachments": {},
      "cell_type": "markdown",
      "metadata": {},
      "source": [
        "- head\n",
        "- cut\n",
        "- awk\n"
      ]
    },
    {
      "cell_type": "code",
      "execution_count": 108,
      "metadata": {
        "vscode": {
          "languageId": "shellscript"
        }
      },
      "outputs": [
        {
          "name": "stdout",
          "output_type": "stream",
          "text": [
            "NAME=\"Ubun\n"
          ]
        }
      ],
      "source": [
        "# first characters\n",
        "head -c10 /etc/os-release"
      ]
    },
    {
      "cell_type": "code",
      "execution_count": 109,
      "metadata": {
        "vscode": {
          "languageId": "shellscript"
        }
      },
      "outputs": [
        {
          "name": "stdout",
          "output_type": "stream",
          "text": [
            "AME=focal\n"
          ]
        }
      ],
      "source": [
        "# last characters\n",
        "tail -c10 /etc/os-release"
      ]
    },
    {
      "cell_type": "code",
      "execution_count": 110,
      "metadata": {
        "vscode": {
          "languageId": "shellscript"
        }
      },
      "outputs": [
        {
          "name": "stdout",
          "output_type": "stream",
          "text": [
            "NAM\n",
            "VER\n",
            "ID=\n",
            "ID_\n",
            "PRE\n",
            "VER\n",
            "HOM\n",
            "SUP\n",
            "BUG\n",
            "PRI\n",
            "VER\n",
            "UBU\n"
          ]
        }
      ],
      "source": [
        "cut -c1-3 /etc/os-release"
      ]
    },
    {
      "cell_type": "code",
      "execution_count": 111,
      "metadata": {
        "vscode": {
          "languageId": "shellscript"
        }
      },
      "outputs": [
        {
          "name": "stdout",
          "output_type": "stream",
          "text": [
            "    17\tgnats:x:41:41:Gnats Bug-Reporting System (admin):/var/lib/gnats:/usr/sbin/nologin\n",
            "Gnats Bug-Reporting System (admin)\n"
          ]
        }
      ],
      "source": [
        "# similar to sed, awk splits a line into fields\n",
        "# format is 'pattern { action }'\n",
        "# also has arrays, hashes ( associtive arrays ), and flow control ( if, while, for )\n",
        "cat -n /etc/passwd | grep gnats\n",
        "awk -F: '/gnats/ { print $5 }' /etc/passwd\n"
      ]
    },
    {
      "attachments": {},
      "cell_type": "markdown",
      "metadata": {},
      "source": [
        "## Character\n"
      ]
    },
    {
      "attachments": {},
      "cell_type": "markdown",
      "metadata": {},
      "source": [
        "- dd\n",
        "- tr\n",
        "- od\n",
        "- hexdump\n",
        "- xxd\n"
      ]
    },
    {
      "cell_type": "code",
      "execution_count": 112,
      "metadata": {
        "vscode": {
          "languageId": "shellscript"
        }
      },
      "outputs": [
        {
          "name": "stdout",
          "output_type": "stream",
          "text": [
            "tu\"\n",
            "VERSIO10+0 records in\n",
            "10+0 records out\n",
            "10 bytes copied, 7.8199e-05 s, 128 kB/s\n"
          ]
        }
      ],
      "source": [
        "# displays characters, but has options to skip, specify block-size, and count\n",
        "# often used to \"image\" a filesystem or create sparse files\n",
        "dd if=/etc/os-release bs=1c skip=10 count=10"
      ]
    },
    {
      "cell_type": "code",
      "execution_count": 113,
      "metadata": {
        "vscode": {
          "languageId": "shellscript"
        }
      },
      "outputs": [
        {
          "name": "stdout",
          "output_type": "stream",
          "text": [
            "ANZR=\"Hohagh\"\n",
            "IREFVBA=\"20.04.6 YGF (Sbpny Sbffn)\"\n",
            "VQ=hohagh\n",
            "VQ_YVXR=qrovna\n",
            "CERGGL_ANZR=\"Hohagh 20.04.6 YGF\"\n",
            "IREFVBA_VQ=\"20.04\"\n",
            "UBZR_HEY=\"uggcf://jjj.hohagh.pbz/\"\n",
            "FHCCBEG_HEY=\"uggcf://uryc.hohagh.pbz/\"\n",
            "OHT_ERCBEG_HEY=\"uggcf://ohtf.ynhapucnq.arg/hohagh/\"\n",
            "CEVINPL_CBYVPL_HEY=\"uggcf://jjj.hohagh.pbz/yrtny/grezf-naq-cbyvpvrf/cevinpl-cbyvpl\"\n",
            "IREFVBA_PBQRANZR=sbpny\n",
            "HOHAGH_PBQRANZR=sbpny\n"
          ]
        }
      ],
      "source": [
        "# transliterate: map, compress, remove characters\n",
        "# only works by redirection\n",
        "# oftern used to remove undesirable characters or implement Ceasar cipher ( e.g. rot13 )\n",
        "< /etc/os-release tr [a-zA-Z] [n-za-mN-ZA-m]\n"
      ]
    },
    {
      "cell_type": "code",
      "execution_count": 114,
      "metadata": {
        "vscode": {
          "languageId": "shellscript"
        }
      },
      "outputs": [
        {
          "name": "stdout",
          "output_type": "stream",
          "text": [
            "NAME=\"Ubuntu\"\n",
            "VERSION=\"20.04.6 LTS (Focal Fossa)\"\n",
            "ID=ubuntu\n",
            "ID_LIKE=debian\n",
            "PRETTY_NAME=\"Ubuntu 20.04.6 LTS\"\n",
            "VERSION_ID=\"20.04\"\n",
            "HOME_URL=\"https://www.ubuntu.com/\"\n",
            "SUPPORT_URL=\"https://help.ubuntu.com/\"\n",
            "BUG_REPORT_URL=\"https://bugs.launchpad.net/ubuntu/\"\n",
            "PRIVACY_POLICY_URL=\"https://www.ubuntu.com/legal/terms-and-policies/privacy-policy\"\n",
            "VERSION_CODENAME=focal\n",
            "UBUNTU_CODENAME=focal\n"
          ]
        }
      ],
      "source": [
        "< /etc/os-release tr [a-zA-Z] [n-za-mN-ZA-m] | tr [a-zA-Z] [n-za-mN-ZA-m]\n"
      ]
    },
    {
      "cell_type": "code",
      "execution_count": 115,
      "metadata": {
        "vscode": {
          "languageId": "shellscript"
        }
      },
      "outputs": [
        {
          "name": "stdout",
          "output_type": "stream",
          "text": [
            "0000000 116 101 115 105 075 042 125 142 165 156 164 165 042 012 126 105\n",
            "          N   A   M   E   =   \"   U   b   u   n   t   u   \"  \\n   V   E\n",
            "0000020 122 123 111 117 116 075 042 062 060 056 060 064 056 066 040 114\n",
            "          R   S   I   O   N   =   \"   2   0   .   0   4   .   6       L\n",
            "0000040 124 123 040 050 106 157 143 141 154 040 106 157 163 163 141 051\n",
            "          T   S       (   F   o   c   a   l       F   o   s   s   a   )\n",
            "0000060 042 012 111 104 075 165 142 165 156 164 165 012 111 104 137 114\n",
            "          \"  \\n   I   D   =   u   b   u   n   t   u  \\n   I   D   _   L\n",
            "0000100 111 113 105 075 144 145 142 151 141 156 012 120 122 105 124 124\n",
            "          I   K   E   =   d   e   b   i   a   n  \\n   P   R   E   T   T\n"
          ]
        }
      ],
      "source": [
        "# display numerical encodings\n",
        "od -bc /etc/os-release | head"
      ]
    },
    {
      "cell_type": "code",
      "execution_count": 116,
      "metadata": {
        "vscode": {
          "languageId": "shellscript"
        }
      },
      "outputs": [
        {
          "name": "stdout",
          "output_type": "stream",
          "text": [
            "0000000 116 101 115 105 075 042 125 142 165 156 164 165 042 012 126 105\n",
            "0000000   N   A   M   E   =   \"   U   b   u   n   t   u   \"  \\n   V   E\n",
            "0000010 122 123 111 117 116 075 042 062 060 056 060 064 056 066 040 114\n",
            "0000010   R   S   I   O   N   =   \"   2   0   .   0   4   .   6       L\n",
            "0000020 124 123 040 050 106 157 143 141 154 040 106 157 163 163 141 051\n",
            "0000020   T   S       (   F   o   c   a   l       F   o   s   s   a   )\n",
            "0000030 042 012 111 104 075 165 142 165 156 164 165 012 111 104 137 114\n",
            "0000030   \"  \\n   I   D   =   u   b   u   n   t   u  \\n   I   D   _   L\n",
            "0000040 111 113 105 075 144 145 142 151 141 156 012 120 122 105 124 124\n",
            "0000040   I   K   E   =   d   e   b   i   a   n  \\n   P   R   E   T   T\n"
          ]
        }
      ],
      "source": [
        "# display numerical encodings\n",
        "hexdump -bc /etc/os-release | head"
      ]
    },
    {
      "cell_type": "code",
      "execution_count": 117,
      "metadata": {
        "vscode": {
          "languageId": "shellscript"
        }
      },
      "outputs": [
        {
          "name": "stdout",
          "output_type": "stream",
          "text": [
            "00000000: 01001110 01000001 01001101 01000101 00111101 00100010  NAME=\"\n",
            "00000006: 01010101 01100010 01110101 01101110 01110100 01110101  Ubuntu\n",
            "0000000c: 00100010 00001010 01010110 01000101 01010010 01010011  \".VERS\n",
            "00000012: 01001001 01001111 01001110 00111101 00100010 00110010  ION=\"2\n",
            "00000018: 00110000 00101110 00110000 00110100 00101110 00110110  0.04.6\n",
            "0000001e: 00100000 01001100 01010100 01010011 00100000 00101000   LTS (\n",
            "00000024: 01000110 01101111 01100011 01100001 01101100 00100000  Focal \n",
            "0000002a: 01000110 01101111 01110011 01110011 01100001 00101001  Fossa)\n",
            "00000030: 00100010 00001010 01001001 01000100 00111101 01110101  \".ID=u\n",
            "00000036: 01100010 01110101 01101110 01110100 01110101 00001010  buntu.\n"
          ]
        }
      ],
      "source": [
        "# display numerical encodings\n",
        "xxd -b -g1 /etc/os-release | head"
      ]
    },
    {
      "attachments": {},
      "cell_type": "markdown",
      "metadata": {},
      "source": [
        "## Multi-file by line, usually\n"
      ]
    },
    {
      "attachments": {},
      "cell_type": "markdown",
      "metadata": {},
      "source": [
        "- diff\n",
        "- paste\n",
        "- comm\n",
        "- join\n",
        "- split\n"
      ]
    },
    {
      "cell_type": "code",
      "execution_count": 118,
      "metadata": {
        "vscode": {
          "languageId": "shellscript"
        }
      },
      "outputs": [
        {
          "name": "stdout",
          "output_type": "stream",
          "text": [
            "1\t\t\t\t\t\t\t      <\n",
            "2\t\t\t\t\t\t\t      <\n",
            "3\t\t\t\t\t\t\t      <\n",
            "4\t\t\t\t\t\t\t      <\n",
            "5\t\t\t\t\t\t\t\t5\n",
            "6\t\t\t\t\t\t\t\t6\n",
            "7\t\t\t\t\t\t\t\t7\n",
            "8\t\t\t\t\t\t\t\t8\n",
            "9\t\t\t\t\t\t\t\t9\n",
            "10\t\t\t\t\t\t\t\t10\n",
            "\t\t\t\t\t\t\t      >\t11\n",
            "\t\t\t\t\t\t\t      >\t12\n",
            "\t\t\t\t\t\t\t      >\t13\n",
            "\t\t\t\t\t\t\t      >\t14\n",
            "\t\t\t\t\t\t\t      >\t15\n"
          ]
        },
        {
          "ename": "",
          "evalue": "1",
          "output_type": "error",
          "traceback": []
        }
      ],
      "source": [
        "# show differences between two files\n",
        "# often used to create a 'patch'\n",
        "diff -y <( seq 1 10 ) <( seq 5 15 )"
      ]
    },
    {
      "cell_type": "code",
      "execution_count": 119,
      "metadata": {
        "vscode": {
          "languageId": "shellscript"
        }
      },
      "outputs": [
        {
          "name": "stdout",
          "output_type": "stream",
          "text": [
            "1\t11\n",
            "2\t12\n",
            "3\t13\n",
            "4\t14\n",
            "5\t15\n",
            "6\t16\n",
            "7\t17\n",
            "8\t18\n",
            "9\t19\n",
            "10\t20\n"
          ]
        }
      ],
      "source": [
        "# combine files side-by-side\n",
        "paste <( seq 1 10 ) <( seq 11 20 )"
      ]
    },
    {
      "cell_type": "code",
      "execution_count": 31,
      "metadata": {
        "vscode": {
          "languageId": "shellscript"
        }
      },
      "outputs": [
        {
          "name": "stdout",
          "output_type": "stream",
          "text": [
            "1\n",
            "2\n",
            "3\n",
            "4\n",
            "5\n",
            "\t\t6\n",
            "\t\t7\n",
            "\t\t8\n",
            "\t\t9\n",
            "\t\t10\n",
            "\t11\n",
            "\t12\n",
            "\t13\n",
            "\t14\n",
            "\t15\n"
          ]
        },
        {
          "ename": "",
          "evalue": "1",
          "output_type": "error",
          "traceback": []
        }
      ],
      "source": [
        "# show which lines are in which file\n",
        "comm <( seq 1 10 ) <( seq 6 15 ) 2> /dev/null"
      ]
    },
    {
      "cell_type": "code",
      "execution_count": 32,
      "metadata": {
        "vscode": {
          "languageId": "shellscript"
        }
      },
      "outputs": [
        {
          "name": "stdout",
          "output_type": "stream",
          "text": [
            "1\n",
            "2\n",
            "3\n",
            "4\n",
            "5\n",
            "\t6\n",
            "\t7\n",
            "\t8\n",
            "\t9\n",
            "\t10\n",
            "\t\t11\n",
            "\t\t12\n",
            "\t\t13\n",
            "\t\t14\n",
            "\t\t15\n"
          ]
        }
      ],
      "source": [
        "# it can get kind of ugly because comm wants numbers sorted as though they are text\n",
        "comm <( { seq 1 5 ; seq 11 15 ; } | sort ) <( seq 6 15 | sort ) | sort -n"
      ]
    },
    {
      "cell_type": "code",
      "execution_count": 12,
      "metadata": {
        "vscode": {
          "languageId": "shellscript"
        }
      },
      "outputs": [
        {
          "name": "stdout",
          "output_type": "stream",
          "text": [
            "==> /etc/passwd <==\n",
            "root:x:0:0:root:/root:/bin/bash\n",
            "daemon:x:1:1:daemon:/usr/sbin:/usr/sbin/nologin\n",
            "bin:x:2:2:bin:/bin:/usr/sbin/nologin\n",
            "\n",
            "==> /etc/group <==\n",
            "root:x:0:\n",
            "daemon:x:1:\n",
            "bin:x:2:\n",
            "\n"
          ]
        },
        {
          "name": "stdout",
          "output_type": "stream",
          "text": [
            "==> join\n",
            "0:root:x:0:root:/root:/bin/bash:root:x:\n",
            "1:daemon:x:1:daemon:/usr/sbin:/usr/sbin/nologin:daemon:x:\n",
            "10:uucp:x:10:uucp:/var/spool/uucp:/usr/sbin/nologin:uucp:x:\n"
          ]
        }
      ],
      "source": [
        "# perform an inner join between two files\n",
        "head -3 /etc/passwd /etc/group\n",
        "echo\n",
        "echo '==> join'\n",
        "join -t: -1 4 -2 3 <( sort -t: -k4,4 /etc/passwd) <( sort -t: -k3,3 /etc/group ) | head -3"
      ]
    },
    {
      "cell_type": "code",
      "execution_count": 8,
      "metadata": {
        "vscode": {
          "languageId": "shellscript"
        }
      },
      "outputs": [
        {
          "name": "stdout",
          "output_type": "stream",
          "text": [
            "   2    2   80 zfoo.000\n",
            "   2    2   74 zfoo.001\n",
            "   2    2   83 zfoo.002\n",
            "   2    2   93 zfoo.003\n",
            "   2    2   94 zfoo.004\n",
            "   2    2   95 zfoo.005\n",
            "   2    2  106 zfoo.006\n",
            "   2    4  111 zfoo.007\n",
            "   2    5  141 zfoo.008\n",
            "   2    4  139 zfoo.009\n",
            "   2    5  164 zfoo.010\n",
            "   2    2  102 zfoo.011\n",
            "   1    1   46 zfoo.012\n",
            "  25   35 1328 total\n",
            "  25   35 1328 /etc/passwd\n",
            "c6730c6fa7c75b7c9198b58ef16b3185  /etc/passwd\n",
            "c6730c6fa7c75b7c9198b58ef16b3185  /dev/fd/63\n"
          ]
        }
      ],
      "source": [
        "# split files into smaller files\n",
        "## split /etc/password into files with two lines each (`-l 2`), having the name prefixed with \"zfoo.\", \n",
        "## and having numerical suffixes (`-d`) that are 3 digits (`-a 3`)\n",
        "cd /tmp\n",
        "split -l 2 -a 3 -d /etc/passwd zfoo.\n",
        "wc zfoo*\n",
        "wc /etc/passwd\n",
        "md5sum /etc/passwd <( cat zfoo.* )"
      ]
    },
    {
      "attachments": {},
      "cell_type": "markdown",
      "metadata": {},
      "source": [
        "## Example of adding up 1..1e7, i.e. 10 million numbers\n"
      ]
    },
    {
      "cell_type": "markdown",
      "metadata": {},
      "source": [
        "This generates parameters (`1 10_000_000`) for the `seq` command, removes the `_` from the input, generates a list of 10 million numbers with one per line,\n",
        "combines them with a `+` character, and pipes them to `bc` to add up.\n",
        "\n",
        "Notice all the tools that are being used:\n",
        "- `echo` and `seq` to generate data\n",
        "- `|` to pipe the output of one command as input to the next\n",
        "- `tr` to modify input data\n",
        "- `xargs` to read input and apply a command to it\n",
        "- `paste` to combine lines with a delimeter\n",
        "- `bc` to act on the input data\n",
        "\n"
      ]
    },
    {
      "attachments": {},
      "cell_type": "markdown",
      "metadata": {},
      "source": [
        "```\n",
        "$ time -p echo 1 10_000_000 | tr -d _ | xargs seq  | paste -sd + | bc\n",
        "5000000050000000\n",
        "real 82.98\n",
        "user 93.41\n",
        "sys 17.36\n",
        "```"
      ]
    },
    {
      "cell_type": "code",
      "execution_count": 24,
      "metadata": {
        "id": "8Ra4jsw4nPCz",
        "vscode": {
          "languageId": "shellscript"
        }
      },
      "outputs": [
        {
          "name": "stdout",
          "output_type": "stream",
          "text": [
            "1+2+3+4+5+6+7+8+9+10\n"
          ]
        },
        {
          "name": "stdout",
          "output_type": "stream",
          "text": [
            "50000005000000\n",
            "real 3.41\n",
            "user 3.54\n",
            "sys 0.37\n"
          ]
        }
      ],
      "source": [
        "# a sample of what happens below before piping into `bc`\n",
        "echo 1 1_0 | tr -d _ | xargs seq | paste -sd +\n",
        "\n",
        "time -p echo 1 10_000_000 | tr -d _ | xargs seq  | paste -sd + | bc\n"
      ]
    },
    {
      "cell_type": "code",
      "execution_count": null,
      "metadata": {
        "vscode": {
          "languageId": "shellscript"
        }
      },
      "outputs": [],
      "source": []
    }
  ],
  "metadata": {
    "colab": {
      "authorship_tag": "ABX9TyMgETyq1djkYsooNe9OTJFZ",
      "provenance": []
    },
    "kernelspec": {
      "display_name": "Bash",
      "language": "bash",
      "name": "bash"
    },
    "language_info": {
      "codemirror_mode": "shell",
      "file_extension": ".sh",
      "mimetype": "text/x-sh",
      "name": "bash"
    }
  },
  "nbformat": 4,
  "nbformat_minor": 0
}
