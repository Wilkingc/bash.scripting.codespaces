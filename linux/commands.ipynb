{
  "nbformat": 4,
  "nbformat_minor": 0,
  "metadata": {
    "colab": {
      "provenance": [],
      "authorship_tag": "ABX9TyMgETyq1djkYsooNe9OTJFZ"
    },
    "kernelspec": {
      "name": "python3",
      "display_name": "Python 3"
    },
    "language_info": {
      "name": "python"
    }
  },
  "cells": [
    {
      "cell_type": "markdown",
      "source": [
        "# Fundamental shell commands\n",
        "\n",
        "## data flow\n",
        "- redirection( <<<, <<, <, |, >, >> )\n",
        "- grouping (), {}\n",
        "- /dev/null\n",
        "- /dev/urandom\n",
        "\n",
        "\n",
        "## generators\n",
        "- echo\n",
        "- printf\n",
        "- seq\n",
        "- date\n",
        "- yes\n",
        "- bc\n",
        "- xargs\n",
        "\n",
        "\n",
        "## filesystem\n",
        "- tree\n",
        "- find\n",
        "- df \n",
        "- du\n",
        "\n",
        "\n",
        "## whole file - metadata\n",
        "- wc\n",
        "- file\n",
        "- ls\n",
        "- stat\n",
        "\n",
        "\n",
        "## line-by-line, usually\n",
        "- cat\n",
        "- head\n",
        "- tail\n",
        "- rev\n",
        "- tac\n",
        "- sort\n",
        "- uniq\n",
        "- shuf\n",
        "- grep\n",
        "- cut\n",
        "- column\n",
        "- sed\n",
        "\n",
        "\n",
        "## line+character\n",
        "- head\n",
        "- cut\n",
        "- awk\n",
        "\n",
        "\n",
        "## character\n",
        "- dd\n",
        "- tr\n",
        "- od\n",
        "- hexdump\n",
        "- xxd\n",
        "\n",
        "\n",
        "## multi-file by line, usually\n",
        "- diff\n",
        "- paste\n",
        "- comm\n",
        "- join\n",
        "- split\n",
        "\n",
        "\n",
        "## example of adding up 1..1e8, i.e. 100 million numbers\n",
        "```\n",
        "$ time -p { seq 1 100000000 | sed -e '{ s#$# +\\\\# }' ; echo 0 ; } | bc\n",
        "5000000050000000\n",
        "real 82.98\n",
        "user 93.41\n",
        "sys 17.36\n",
        "```\n",
        "\n",
        "\n",
        "\n",
        "\n",
        "\n"
      ],
      "metadata": {
        "id": "foURYcvwm_3t"
      }
    },
    {
      "cell_type": "code",
      "source": [],
      "metadata": {
        "id": "8Ra4jsw4nPCz"
      },
      "execution_count": null,
      "outputs": []
    }
  ]
}