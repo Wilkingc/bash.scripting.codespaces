{
 "cells": [
  {
   "cell_type": "markdown",
   "id": "3fac2dd2-0d9f-40f5-9989-338aec277ce8",
   "metadata": {},
   "source": [
    "# Most-in-one Node-RED, subscriber, publisher container\n",
    "\n",
    "This version is similar to the original version,\n",
    "but differs in that it uses the public broker at \\[[mqtt.eclipseprojects.io]( https://mqtt.eclipseprojects.io/ )\\].\n",
    "\n",
    "For more info on [MQTT]( https://en.wikipedia.org/wiki/MQTT )\n",
    "\n",
    "These commmands have been tested and verify to work with Docker on a Chromebook and on GitHub's CodeSpaces.\n"
   ]
  },
  {
   "cell_type": "markdown",
   "id": "e8a41931-1d95-4314-b72e-943839246c28",
   "metadata": {},
   "source": [
    "## Verify that container exists\n"
   ]
  },
  {
   "cell_type": "code",
   "execution_count": 1,
   "id": "d2a8e5ec-1739-486a-9755-9c5bbdaf1f6d",
   "metadata": {},
   "outputs": [
    {
     "name": "stdout",
     "output_type": "stream",
     "text": [
      "bc096229057b   mqtt-red                \"sleep inf\"              8 minutes ago    Up 8 minutes    127.0.0.1:1880->1880/tcp   mqtt-red\n"
     ]
    }
   ],
   "source": [
    "docker container list -a | grep mqtt-red\n"
   ]
  },
  {
   "cell_type": "markdown",
   "id": "6bc81eab-d919-461f-a575-7360a56f84e8",
   "metadata": {},
   "source": [
    "## Run node-red in container"
   ]
  },
  {
   "cell_type": "code",
   "execution_count": 2,
   "id": "2511304a-5045-44ca-8685-c6c5b056e53f",
   "metadata": {},
   "outputs": [
    {
     "name": "stdout",
     "output_type": "stream",
     "text": [
      "Active Internet connections (only servers)\n",
      "Proto Recv-Q Send-Q Local Address           Foreign Address         State       PID/Program name    \n",
      "\n",
      "\n",
      "Node-RED URL:    http://localhost:1880\n",
      "\n",
      "\n"
     ]
    }
   ],
   "source": [
    "docker container exec -d mqtt-red \\\n",
    "  node-red ; sleep 2\n",
    "docker container exec mqtt-red netstat -plnt\n",
    "echo -e \"\\n\\nNode-RED URL:    http://localhost:1880\\n\\n\"\n",
    "\n"
   ]
  },
  {
   "cell_type": "markdown",
   "id": "6a03860a-334d-4eb4-aa24-d6b67ec29448",
   "metadata": {},
   "source": [
    "Open the link in a browser."
   ]
  }
 ],
 "metadata": {
  "kernelspec": {
   "display_name": "Bash",
   "language": "bash",
   "name": "bash"
  },
  "language_info": {
   "codemirror_mode": "shell",
   "file_extension": ".sh",
   "mimetype": "text/x-sh",
   "name": "bash"
  }
 },
 "nbformat": 4,
 "nbformat_minor": 5
}
