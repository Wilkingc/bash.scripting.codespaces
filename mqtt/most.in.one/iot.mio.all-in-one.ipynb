{
 "cells": [
  {
   "cell_type": "markdown",
   "id": "3fac2dd2-0d9f-40f5-9989-338aec277ce8",
   "metadata": {},
   "source": [
    "# Most-in-one Node-RED, subscriber, publisher container\n",
    "\n",
    "This version is similar to the original version,\n",
    "but differs in that it uses the public broker at \\[[mqtt.eclipseprojects.io]( https://mqtt.eclipseprojects.io/ )\\].\n",
    "\n",
    "For more info on [MQTT]( https://en.wikipedia.org/wiki/MQTT )\n",
    "\n",
    "These commmands have been tested and verify to work with Docker on a Chromebook and on GitHub's CodeSpaces.\n",
    "\n",
    "\n",
    "## Pull and tag images"
   ]
  },
  {
   "cell_type": "code",
   "execution_count": 2,
   "id": "fe90bd63-9213-41dc-90e0-1788feef6b73",
   "metadata": {},
   "outputs": [
    {
     "name": "stdout",
     "output_type": "stream",
     "text": [
      "Using default tag: latest\n",
      "latest: Pulling from rwcitek/mqtt-red\n",
      "\n",
      "\u001b[1B9b027e7f: Pulling fs layer \n",
      "\u001b[1Bc03c2999: Pulling fs layer \n",
      "\u001b[1B1bb94812: Pulling fs layer \n",
      "\u001b[1B4ee82ea7: Pulling fs layer \n",
      "\u001b[1Ba20736fe: Pulling fs layer \n",
      "\u001b[1B46f6498f: Pulling fs layer \n",
      "\u001b[1BDigest: sha256:c8ae0c5c3ac9abf366014664cc84997f18fa12beabacd1f7b6241a3ba225e82c\n",
      "Status: Downloaded newer image for rwcitek/mqtt-red:latest\n",
      "docker.io/rwcitek/mqtt-red:latest\n",
      "REPOSITORY              TAG       IMAGE ID       CREATED         SIZE\n",
      "rwcitek/jupyter.light   latest    e75daf1a236c   6 days ago      937MB\n",
      "ubuntu                  latest    fd1d8f58e8ae   3 weeks ago     77.9MB\n",
      "mqtt-red                latest    159d72caafdb   10 months ago   388MB\n",
      "rwcitek/mqtt-red        latest    159d72caafdb   10 months ago   388MB\n"
     ]
    }
   ],
   "source": [
    "docker image pull rwcitek/mqtt-red\n",
    "docker image tag rwcitek/mqtt-red:latest mqtt-red\n",
    "docker image list -a"
   ]
  },
  {
   "cell_type": "markdown",
   "id": "48d51857-d23e-4111-a37e-36d13f6ac047",
   "metadata": {},
   "source": [
    "## Remove any existing container\n"
   ]
  },
  {
   "cell_type": "code",
   "execution_count": 5,
   "id": "15cf5e17-bf41-435e-a7d6-bd09bae6a6ae",
   "metadata": {},
   "outputs": [
    {
     "name": "stdout",
     "output_type": "stream",
     "text": [
      "Error response from daemon: No such container: mqtt-red\n",
      "Error response from daemon: No such container: mqtt-red\n",
      "CONTAINER ID   IMAGE                   COMMAND                  CREATED         STATUS         PORTS                      NAMES\n",
      "5c88dfbac6fa   rwcitek/jupyter.light   \"jupyter lab --allow…\"   7 minutes ago   Up 7 minutes   127.0.0.1:8888->8888/tcp   jupyter\n"
     ]
    }
   ],
   "source": [
    "docker container stop mqtt-red\n",
    "docker container rm mqtt-red\n",
    "docker container list -a\n"
   ]
  },
  {
   "cell_type": "markdown",
   "id": "7c26649e-94b9-4dde-95d7-b357e27361bd",
   "metadata": {},
   "source": [
    "## Create the Docker container environment in a terminal\n",
    "\n"
   ]
  },
  {
   "cell_type": "code",
   "execution_count": 6,
   "id": "1e78bdcf-0d95-4940-9a46-38ab00444a52",
   "metadata": {},
   "outputs": [
    {
     "name": "stdout",
     "output_type": "stream",
     "text": [
      "e396dda4bcd5b7cd1ef0bb390281926a3901d97418f290b81b6cd91b70be41dc\n",
      "CONTAINER ID   IMAGE                   COMMAND                  CREATED         STATUS                  PORTS                      NAMES\n",
      "e396dda4bcd5   mqtt-red                \"sleep inf\"              1 second ago    Up Less than a second   127.0.0.1:1880->1880/tcp   mqtt-red\n",
      "5c88dfbac6fa   rwcitek/jupyter.light   \"jupyter lab --allow…\"   8 minutes ago   Up 8 minutes            127.0.0.1:8888->8888/tcp   jupyter\n"
     ]
    }
   ],
   "source": [
    "docker container run -d --name mqtt-red -p 127.0.0.1:1880:1880 mqtt-red \\\n",
    "  sleep inf\n",
    "docker container list -a\n"
   ]
  },
  {
   "cell_type": "markdown",
   "id": "230c4b21-daac-4e2e-b416-041296ecde24",
   "metadata": {},
   "source": [
    "## Run node-RED\n",
    "Pre-install the Node-RED dashboard ( optional )\n"
   ]
  },
  {
   "cell_type": "code",
   "execution_count": 7,
   "id": "035b1a78-befc-4aed-b83e-1bb5778ef037",
   "metadata": {},
   "outputs": [
    {
     "name": "stdout",
     "output_type": "stream",
     "text": [
      "\n",
      "added 55 packages, and audited 56 packages in 2s\n",
      "\n",
      "found 0 vulnerabilities\n"
     ]
    }
   ],
   "source": [
    "docker container exec mqtt-red \\\n",
    "  npm install -g --unsafe-perm node-red-dashboard\n"
   ]
  },
  {
   "cell_type": "code",
   "execution_count": 8,
   "id": "0ced4ec4-e744-4af8-bc3d-e8e8c623a9a5",
   "metadata": {},
   "outputs": [
    {
     "name": "stdout",
     "output_type": "stream",
     "text": [
      "Active Internet connections (only servers)\n",
      "Proto Recv-Q Send-Q Local Address           Foreign Address         State       PID/Program name    \n",
      "tcp        0      0 0.0.0.0:1880            0.0.0.0:*               LISTEN      24/node-red         \n",
      "\n",
      "\n",
      "Node-RED URL:    http://localhost:1880\n",
      "\n",
      "\n"
     ]
    }
   ],
   "source": [
    "docker container exec -d mqtt-red \\\n",
    "  node-red ; sleep 2\n",
    "docker container exec mqtt-red netstat -plnt\n",
    "echo -e \"\\n\\nNode-RED URL:    http://localhost:1880\\n\\n\"\n",
    "\n"
   ]
  },
  {
   "cell_type": "markdown",
   "id": "b15fdc29-c519-44e3-9566-378da884c611",
   "metadata": {},
   "source": [
    "Open the link in a browser.\n",
    "\n",
    "## Run a subscriber\n"
   ]
  },
  {
   "cell_type": "code",
   "execution_count": 9,
   "id": "137cf667-a926-478d-bd57-cef189722bf4",
   "metadata": {},
   "outputs": [
    {
     "name": "stdout",
     "output_type": "stream",
     "text": [
      "\n"
     ]
    }
   ],
   "source": [
    "docker container exec mqtt-red \\\n",
    "  mosquitto_sub \\\n",
    "    --host mqtt.eclipseprojects.io \\\n",
    "    --port 1883 \\\n",
    "    --topic feeds/test\n"
   ]
  },
  {
   "cell_type": "markdown",
   "id": "f49fc72d-4692-420c-8df4-658b7152a245",
   "metadata": {},
   "source": [
    "## Run a publisher in a second terminal\n"
   ]
  },
  {
   "cell_type": "code",
   "execution_count": null,
   "id": "6bd18099-7f56-4ab7-be13-63a94fcb6135",
   "metadata": {},
   "outputs": [],
   "source": [
    "docker container exec mqtt-red \\\n",
    "  mosquitto_pub \\\n",
    "    --host mqtt.eclipseprojects.io \\\n",
    "    --port 1883 \\\n",
    "    --topic feeds/test \\\n",
    "    --message \"Hello World\"\n"
   ]
  },
  {
   "cell_type": "markdown",
   "id": "95834b37-8f6e-42fa-ac11-4742b7c5520c",
   "metadata": {},
   "source": [
    "---\n",
    "# Advanced usage\n",
    "\n",
    "## Update software packages in container\n",
    "\n",
    "If you do this, you will probably want to do this before running Node-RED or anything else in the container. \n",
    "```bash\n",
    "docker container exec -i mqtt-red /bin/bash <<'eof'\n",
    "  export DEBIAN_FRONTEND=noninteractive\n",
    "  apt-get -y autoclean\n",
    "  apt-get -y autoremove\n",
    "  apt-get update &&\n",
    "  apt-get -y dist-upgrade\n",
    "eof\n",
    "```\n",
    "\n",
    "## Enter into an interactive container\n",
    "```bash\n",
    "docker container exec -it mqtt-red /bin/bash\n",
    "```"
   ]
  },
  {
   "cell_type": "code",
   "execution_count": null,
   "id": "d5ea0606-64ea-4dbe-b7f9-5723a33d3550",
   "metadata": {},
   "outputs": [],
   "source": []
  }
 ],
 "metadata": {
  "kernelspec": {
   "display_name": "Bash",
   "language": "bash",
   "name": "bash"
  },
  "language_info": {
   "codemirror_mode": "shell",
   "file_extension": ".sh",
   "mimetype": "text/x-sh",
   "name": "bash"
  }
 },
 "nbformat": 4,
 "nbformat_minor": 5
}
