{
 "cells": [
  {
   "cell_type": "markdown",
   "id": "17050a1c-776e-4468-b422-dfe49f186a8c",
   "metadata": {},
   "source": [
    "# Query mongodb\n"
   ]
  },
  {
   "cell_type": "code",
   "execution_count": 1,
   "id": "abeb32c7-d77d-41dd-b989-d258e37b8ffe",
   "metadata": {},
   "outputs": [
    {
     "name": "stdout",
     "output_type": "stream",
     "text": [
      "test> admin   100.00 KiB\n",
      "config   60.00 KiB\n",
      "local    72.00 KiB\n",
      "test> \n"
     ]
    }
   ],
   "source": [
    "<< 'eof' docker container exec -i mongodb-mongo-1 \\\n",
    "mongosh -u root -p example --authenticationDatabase admin --host localhost --port 27017 --quiet\n",
    "show dbs\n",
    "eof"
   ]
  },
  {
   "cell_type": "code",
   "execution_count": null,
   "id": "f6a99d0b-ab58-40fc-9481-045315f5935e",
   "metadata": {},
   "outputs": [],
   "source": []
  }
 ],
 "metadata": {
  "kernelspec": {
   "display_name": "Bash",
   "language": "bash",
   "name": "bash"
  },
  "language_info": {
   "codemirror_mode": "shell",
   "file_extension": ".sh",
   "mimetype": "text/x-sh",
   "name": "bash"
  }
 },
 "nbformat": 4,
 "nbformat_minor": 5
}
