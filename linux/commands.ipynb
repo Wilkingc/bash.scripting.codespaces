{
 "cells": [
  {
   "attachments": {},
   "cell_type": "markdown",
   "metadata": {
    "id": "foURYcvwm_3t"
   },
   "source": [
    "# Fundamental shell commands\n",
    "\n"
   ]
  },
  {
   "cell_type": "markdown",
   "metadata": {},
   "source": [
    "## References"
   ]
  },
  {
   "cell_type": "markdown",
   "metadata": {},
   "source": [
    "- [Linux Phrasebook, Second Edition](https://learning.oreilly.com/library/view/linux-phrasebook-second/9780133038576/cover.html)"
   ]
  },
  {
   "cell_type": "markdown",
   "metadata": {},
   "source": [
    "## Setup"
   ]
  },
  {
   "cell_type": "markdown",
   "metadata": {},
   "source": [
    "Run `bash jupyter.light.sh` from the base folder in the terminal to start a Jupyter lab session with the bash Jupyter kernel."
   ]
  },
  {
   "cell_type": "code",
   "execution_count": null,
   "metadata": {
    "vscode": {
     "languageId": "shellscript"
    }
   },
   "outputs": [],
   "source": [
    "apt-get update\n",
    "apt-get install -y wamerican-insane bc\n",
    "\n",
    "ls -la /usr/share/dict/\n",
    "wc /usr/share/dict/words\n"
   ]
  },
  {
   "attachments": {},
   "cell_type": "markdown",
   "metadata": {},
   "source": [
    "## Data flow\n"
   ]
  },
  {
   "attachments": {},
   "cell_type": "markdown",
   "metadata": {},
   "source": [
    "- redirection( <<<, <<, <, <() , |, >, >>)\n",
    "- grouping (), {}\n",
    "- /dev/null\n",
    "- /dev/urandom\n",
    "\n",
    "These are used to stich together other commands.\n",
    "We'll use these in examples below."
   ]
  },
  {
   "attachments": {},
   "cell_type": "markdown",
   "metadata": {},
   "source": [
    "## Generators\n"
   ]
  },
  {
   "attachments": {},
   "cell_type": "markdown",
   "metadata": {},
   "source": [
    "- echo\n",
    "- printf\n",
    "- seq\n",
    "- date\n",
    "- yes\n",
    "- bc\n",
    "- xargs\n"
   ]
  },
  {
   "cell_type": "code",
   "execution_count": null,
   "metadata": {
    "vscode": {
     "languageId": "shellscript"
    }
   },
   "outputs": [],
   "source": [
    "# Generate some output\n",
    "echo \"Hello, world\""
   ]
  },
  {
   "cell_type": "code",
   "execution_count": null,
   "metadata": {
    "vscode": {
     "languageId": "shellscript"
    }
   },
   "outputs": [],
   "source": [
    "printf \"Hello, world\""
   ]
  },
  {
   "cell_type": "code",
   "execution_count": null,
   "metadata": {
    "vscode": {
     "languageId": "shellscript"
    }
   },
   "outputs": [],
   "source": [
    "# Generate a sequence of numbers\n",
    "seq 1 10"
   ]
  },
  {
   "cell_type": "code",
   "execution_count": null,
   "metadata": {
    "vscode": {
     "languageId": "shellscript"
    }
   },
   "outputs": [],
   "source": [
    "# Output the current date and time, often in the local time zone\n",
    "date"
   ]
  },
  {
   "cell_type": "code",
   "execution_count": null,
   "metadata": {
    "vscode": {
     "languageId": "shellscript"
    }
   },
   "outputs": [],
   "source": [
    "# 'yes' goes on forever until stoped, i.e. an infinite loop\n",
    "# here 'head' is used to stop 'yes'\n",
    "yes 10 | head -5"
   ]
  },
  {
   "cell_type": "code",
   "execution_count": null,
   "metadata": {
    "vscode": {
     "languageId": "shellscript"
    }
   },
   "outputs": [],
   "source": [
    "# pipe commands into 'bc', a calculator\n",
    "echo 1 + 1 | bc"
   ]
  },
  {
   "cell_type": "code",
   "execution_count": null,
   "metadata": {
    "vscode": {
     "languageId": "shellscript"
    }
   },
   "outputs": [],
   "source": [
    "# turns rows into columns\n",
    "# more accurately, turns a list of lines into arguments to commands\n",
    "seq 1 10 | xargs echo"
   ]
  },
  {
   "attachments": {},
   "cell_type": "markdown",
   "metadata": {},
   "source": [
    "## Filesystem\n"
   ]
  },
  {
   "attachments": {},
   "cell_type": "markdown",
   "metadata": {},
   "source": [
    "- tree\n",
    "- find\n",
    "- df \n",
    "- du\n"
   ]
  },
  {
   "cell_type": "code",
   "execution_count": null,
   "metadata": {
    "vscode": {
     "languageId": "shellscript"
    }
   },
   "outputs": [],
   "source": [
    "# Create a graphical tree of a folder and its files and subfolders\n",
    "tree /etc/apt"
   ]
  },
  {
   "cell_type": "code",
   "execution_count": null,
   "metadata": {
    "vscode": {
     "languageId": "shellscript"
    }
   },
   "outputs": [],
   "source": [
    "# generate a list of files by traversing the filesystem, starting at a specific folder\n",
    "find /etc/apt -type f"
   ]
  },
  {
   "cell_type": "code",
   "execution_count": null,
   "metadata": {
    "vscode": {
     "languageId": "shellscript"
    }
   },
   "outputs": [],
   "source": [
    "find /etc/apt -type f | xargs wc\n",
    "# [ wc(x) for x in find(\"/etc/apt\", type=\"file\") ]\n",
    "# find /etc/apt -type f | xargs wc | tr -s ' ' '\\t' | cut -f3,5\n",
    "\n"
   ]
  },
  {
   "cell_type": "code",
   "execution_count": null,
   "metadata": {
    "vscode": {
     "languageId": "shellscript"
    }
   },
   "outputs": [],
   "source": [
    "# Display the information about the filesystem given a file or folder on that filesystem\n",
    "df -h -T -P -l /etc/apt"
   ]
  },
  {
   "cell_type": "code",
   "execution_count": null,
   "metadata": {
    "vscode": {
     "languageId": "shellscript"
    }
   },
   "outputs": [],
   "source": [
    "# show disk usage for descendent files given a folder or file\n",
    "du -m -a -c /etc/apt"
   ]
  },
  {
   "attachments": {},
   "cell_type": "markdown",
   "metadata": {},
   "source": [
    "## Whole file - metadata\n"
   ]
  },
  {
   "attachments": {},
   "cell_type": "markdown",
   "metadata": {},
   "source": [
    "- wc\n",
    "- file\n",
    "- ls\n",
    "- stat\n"
   ]
  },
  {
   "cell_type": "code",
   "execution_count": null,
   "metadata": {
    "vscode": {
     "languageId": "shellscript"
    }
   },
   "outputs": [],
   "source": [
    "# Display the lines, words, and characters in a file\n",
    "wc /usr/share/dict/words"
   ]
  },
  {
   "cell_type": "code",
   "execution_count": null,
   "metadata": {
    "vscode": {
     "languageId": "shellscript"
    }
   },
   "outputs": [],
   "source": [
    "# redirect input from a file\n",
    "wc -l < /usr/share/dict/words"
   ]
  },
  {
   "cell_type": "code",
   "execution_count": null,
   "metadata": {
    "vscode": {
     "languageId": "shellscript"
    }
   },
   "outputs": [],
   "source": [
    "# guess the file type\n",
    "file /usr/share/dict/american-english-insane"
   ]
  },
  {
   "cell_type": "code",
   "execution_count": null,
   "metadata": {
    "vscode": {
     "languageId": "shellscript"
    }
   },
   "outputs": [],
   "source": [
    "# list a file or files\n",
    "ls -la /usr/share/dict/american-english-insane"
   ]
  },
  {
   "cell_type": "code",
   "execution_count": null,
   "metadata": {
    "vscode": {
     "languageId": "shellscript"
    }
   },
   "outputs": [],
   "source": [
    "# display the meta-data about a file\n",
    "stat /usr/share/dict/american-english-insane"
   ]
  },
  {
   "cell_type": "code",
   "execution_count": null,
   "metadata": {},
   "outputs": [],
   "source": [
    "find /etc/apt -type f | xargs stat | egrep -o '[a-zA-Z ]+: ([a-zA-Z0-9)(/+.:-]+ ?[a-zA-Z0-9)(/+.:-]*)'"
   ]
  },
  {
   "cell_type": "code",
   "execution_count": null,
   "metadata": {},
   "outputs": [],
   "source": [
    "find /etc/apt -type f | xargs stat | sed -r -e '{ s/([a-zA-Z ]+: )/\\n\\1/g } ' | grep : | sed '{ s/^ *// } ' | sed -e '{ s/^File/\\nFile/ }'"
   ]
  },
  {
   "attachments": {},
   "cell_type": "markdown",
   "metadata": {},
   "source": [
    "## Line-by-line, usually\n"
   ]
  },
  {
   "attachments": {},
   "cell_type": "markdown",
   "metadata": {},
   "source": [
    "- cat\n",
    "- head\n",
    "- tail\n",
    "- rev\n",
    "- tac\n",
    "- cut\n",
    "- sort\n",
    "- uniq\n",
    "- shuf\n",
    "- grep\n",
    "- column\n",
    "- sed\n"
   ]
  },
  {
   "cell_type": "code",
   "execution_count": null,
   "metadata": {
    "vscode": {
     "languageId": "shellscript"
    }
   },
   "outputs": [],
   "source": [
    "# display the contents of a file or files\n",
    "# 'cat' comes from concatenate\n",
    "cat -n /etc/os-release\n"
   ]
  },
  {
   "cell_type": "code",
   "execution_count": null,
   "metadata": {
    "vscode": {
     "languageId": "shellscript"
    }
   },
   "outputs": [],
   "source": [
    "# input redirection from string\n",
    "<<< \"Hello, world\" cat"
   ]
  },
  {
   "cell_type": "code",
   "execution_count": null,
   "metadata": {},
   "outputs": [],
   "source": [
    "# echo \"Hello, world\" > /tmp/pseudo-file\n",
    "# cat /tmp/pseudo-file\n",
    "# rm /tmp/pseudo-file\n"
   ]
  },
  {
   "cell_type": "code",
   "execution_count": null,
   "metadata": {
    "vscode": {
     "languageId": "shellscript"
    }
   },
   "outputs": [],
   "source": [
    "# here-doc\n",
    "<< 'agoobi' cat\n",
    "Hello, world\n",
    "agoobi"
   ]
  },
  {
   "cell_type": "code",
   "execution_count": null,
   "metadata": {
    "vscode": {
     "languageId": "shellscript"
    }
   },
   "outputs": [],
   "source": [
    "< /etc/os-release cat"
   ]
  },
  {
   "cell_type": "code",
   "execution_count": null,
   "metadata": {
    "vscode": {
     "languageId": "shellscript"
    }
   },
   "outputs": [],
   "source": [
    "# diplay the lines at the top (head) of a file\n",
    "head -5 /etc/os-release\n"
   ]
  },
  {
   "cell_type": "code",
   "execution_count": null,
   "metadata": {
    "vscode": {
     "languageId": "shellscript"
    }
   },
   "outputs": [],
   "source": [
    "# diplay the lines at the bottom (tail) of a file\n",
    "tail -5 /etc/os-release\n"
   ]
  },
  {
   "cell_type": "code",
   "execution_count": null,
   "metadata": {
    "vscode": {
     "languageId": "shellscript"
    }
   },
   "outputs": [],
   "source": [
    "# reverse the sequence of characters on each line\n",
    "rev /etc/os-release"
   ]
  },
  {
   "cell_type": "code",
   "execution_count": null,
   "metadata": {
    "vscode": {
     "languageId": "shellscript"
    }
   },
   "outputs": [],
   "source": [
    "# display the lines in a file from bottom to top\n",
    "tac /etc/os-release | rev\n"
   ]
  },
  {
   "cell_type": "code",
   "execution_count": null,
   "metadata": {
    "vscode": {
     "languageId": "shellscript"
    }
   },
   "outputs": [],
   "source": [
    "# display the characters at a range of byte positions per line\n",
    "cut -c3-7 /etc/os-release"
   ]
  },
  {
   "cell_type": "code",
   "execution_count": null,
   "metadata": {},
   "outputs": [],
   "source": [
    "< /etc/os-release rev | cut -c1-4 | rev"
   ]
  },
  {
   "cell_type": "code",
   "execution_count": null,
   "metadata": {
    "vscode": {
     "languageId": "shellscript"
    }
   },
   "outputs": [],
   "source": [
    "# sort and group lines\n",
    "sort /etc/os-release\n"
   ]
  },
  {
   "cell_type": "code",
   "execution_count": null,
   "metadata": {
    "vscode": {
     "languageId": "shellscript"
    }
   },
   "outputs": [],
   "source": [
    "# display the unique characters\n",
    "# often used in conjuction with sort, which groups similar lines together\n",
    "grep -o . /etc/os-release | sort | uniq -c | sort -r -n | head -5\n"
   ]
  },
  {
   "cell_type": "code",
   "execution_count": null,
   "metadata": {
    "vscode": {
     "languageId": "shellscript"
    }
   },
   "outputs": [],
   "source": [
    "# randomly select and display lines\n",
    "cat -n /etc/os-release | shuf -n 5\n"
   ]
  },
  {
   "cell_type": "code",
   "execution_count": null,
   "metadata": {
    "vscode": {
     "languageId": "shellscript"
    }
   },
   "outputs": [],
   "source": [
    "# display lines that match a pattern, i.e. regular expression\n",
    "grep -i 'ver' --color=always /etc/os-release\n"
   ]
  },
  {
   "cell_type": "code",
   "execution_count": null,
   "metadata": {
    "vscode": {
     "languageId": "shellscript"
    }
   },
   "outputs": [],
   "source": [
    "grep -o -i 'vers.*=' /etc/os-release | rev | cut -c2- | rev"
   ]
  },
  {
   "cell_type": "code",
   "execution_count": null,
   "metadata": {
    "vscode": {
     "languageId": "shellscript"
    }
   },
   "outputs": [],
   "source": [
    "# creates space padded tabular data\n",
    "column -s= -t /etc/os-release\n"
   ]
  },
  {
   "cell_type": "code",
   "execution_count": null,
   "metadata": {
    "vscode": {
     "languageId": "shellscript"
    }
   },
   "outputs": [],
   "source": [
    "# sed == stream editor\n",
    "# used most often for search/replace patterns\n",
    "# format is 'range { action }',\n",
    "#   where range can be a single line number, a range of line numbers ( e.g. 1,3 ), a pattern ( e.g. /id/ ), or a combination\n",
    "#   and an actions are usually single letters, e.g. s (search), p (print), d (delete)\n",
    "sed '4,12 { s/ubuntu/stuff/i }' /etc/os-release | cat -n\n"
   ]
  },
  {
   "cell_type": "code",
   "execution_count": null,
   "metadata": {},
   "outputs": [],
   "source": [
    "sed -r -e '/URL/ { s/(.*)(=.*)$/foo_\\1\\2/i }' /etc/os-release | cat -n\n"
   ]
  },
  {
   "attachments": {},
   "cell_type": "markdown",
   "metadata": {},
   "source": [
    "## Line+character\n"
   ]
  },
  {
   "attachments": {},
   "cell_type": "markdown",
   "metadata": {},
   "source": [
    "- head\n",
    "- cut\n",
    "- awk\n"
   ]
  },
  {
   "cell_type": "code",
   "execution_count": null,
   "metadata": {
    "vscode": {
     "languageId": "shellscript"
    }
   },
   "outputs": [],
   "source": [
    "# first characters\n",
    "head -c50 /etc/os-release"
   ]
  },
  {
   "cell_type": "code",
   "execution_count": null,
   "metadata": {
    "vscode": {
     "languageId": "shellscript"
    }
   },
   "outputs": [],
   "source": [
    "# last characters\n",
    "tail -c10 /etc/os-release"
   ]
  },
  {
   "cell_type": "code",
   "execution_count": null,
   "metadata": {
    "vscode": {
     "languageId": "shellscript"
    }
   },
   "outputs": [],
   "source": [
    "cut -c1-3 /etc/os-release"
   ]
  },
  {
   "cell_type": "code",
   "execution_count": null,
   "metadata": {
    "vscode": {
     "languageId": "shellscript"
    }
   },
   "outputs": [],
   "source": [
    "# similar to sed, awk splits a line into fields\n",
    "# format is 'pattern { action }'\n",
    "# also has arrays, hashes ( associtive arrays ), and flow control ( if, while, for )\n",
    "cat -n /etc/passwd\n",
    "echo\n",
    "cat -n /etc/passwd | grep gnats\n",
    "echo\n",
    "awk -F: '/gnats/ { print $5 }' /etc/passwd\n",
    "\n",
    "# [ x[4] for x in passwd_file.split(\"\\n\") if \"gnats\" in x ]\n"
   ]
  },
  {
   "attachments": {},
   "cell_type": "markdown",
   "metadata": {},
   "source": [
    "## Character\n"
   ]
  },
  {
   "attachments": {},
   "cell_type": "markdown",
   "metadata": {},
   "source": [
    "- dd\n",
    "- tr\n",
    "- od\n",
    "- hexdump\n",
    "- xxd\n"
   ]
  },
  {
   "cell_type": "code",
   "execution_count": null,
   "metadata": {
    "vscode": {
     "languageId": "shellscript"
    }
   },
   "outputs": [],
   "source": [
    "# displays characters, but has options to skip, specify block-size, and count\n",
    "# often used to \"image\" a filesystem or create sparse files\n",
    "dd if=/etc/os-release bs=1c skip=10 count=10"
   ]
  },
  {
   "cell_type": "code",
   "execution_count": null,
   "metadata": {
    "vscode": {
     "languageId": "shellscript"
    }
   },
   "outputs": [],
   "source": [
    "# transliterate: map, compress, remove characters\n",
    "# only works by redirection\n",
    "# oftern used to remove undesirable characters or implement Ceasar cipher ( e.g. rot13 )\n",
    "< /etc/os-release tr [a-zA-Z] [n-za-mN-ZA-m]\n"
   ]
  },
  {
   "cell_type": "code",
   "execution_count": null,
   "metadata": {
    "vscode": {
     "languageId": "shellscript"
    }
   },
   "outputs": [],
   "source": [
    "< /etc/os-release tr [a-zA-Z] [n-za-mN-ZA-m] | tr [a-zA-Z] [n-za-mN-ZA-m]\n"
   ]
  },
  {
   "cell_type": "code",
   "execution_count": null,
   "metadata": {},
   "outputs": [],
   "source": [
    "# \"GACT\" original\n",
    "# \"CTGA\" rev-comp\n",
    "echo \"GA[GCAT]TC\" | tr ACTG TGAC | rev\n",
    "echo \"CAGCAG[GCAT]{25}[GCAT][GCAT]\"\n",
    "echo \"AGCTAGCTAGACTGGTACCTAGCGAGCTAGC\" | sed -re  '{ s/^(.*GGTAC)(C.*$)/\\1 --- \\2/ }' "
   ]
  },
  {
   "cell_type": "code",
   "execution_count": null,
   "metadata": {
    "vscode": {
     "languageId": "shellscript"
    }
   },
   "outputs": [],
   "source": [
    "# display numerical encodings\n",
    "od -bc /etc/os-release | head"
   ]
  },
  {
   "cell_type": "code",
   "execution_count": null,
   "metadata": {
    "vscode": {
     "languageId": "shellscript"
    }
   },
   "outputs": [],
   "source": [
    "# display numerical encodings\n",
    "hexdump -bc /etc/os-release | head"
   ]
  },
  {
   "cell_type": "code",
   "execution_count": null,
   "metadata": {
    "vscode": {
     "languageId": "shellscript"
    }
   },
   "outputs": [],
   "source": [
    "# display numerical encodings\n",
    "xxd -b -g1 /etc/os-release | head"
   ]
  },
  {
   "attachments": {},
   "cell_type": "markdown",
   "metadata": {},
   "source": [
    "## Multi-file by line, usually\n"
   ]
  },
  {
   "attachments": {},
   "cell_type": "markdown",
   "metadata": {},
   "source": [
    "- diff\n",
    "- paste\n",
    "- comm\n",
    "- join\n",
    "- split\n"
   ]
  },
  {
   "cell_type": "code",
   "execution_count": null,
   "metadata": {
    "vscode": {
     "languageId": "shellscript"
    }
   },
   "outputs": [],
   "source": [
    "# show differences between two files\n",
    "# often used to create a 'patch'\n",
    "diff -y <( seq 1 10 ) <( seq 5 15 )"
   ]
  },
  {
   "cell_type": "code",
   "execution_count": null,
   "metadata": {
    "vscode": {
     "languageId": "shellscript"
    }
   },
   "outputs": [],
   "source": [
    "# combine files side-by-side\n",
    "paste <( seq 1 10 ) <( seq 11 20 )"
   ]
  },
  {
   "cell_type": "code",
   "execution_count": null,
   "metadata": {
    "vscode": {
     "languageId": "shellscript"
    }
   },
   "outputs": [],
   "source": [
    "# show which lines are in which file\n",
    "comm <( seq 1 10 ) <( seq 6 15 ) 2> /dev/null"
   ]
  },
  {
   "cell_type": "code",
   "execution_count": null,
   "metadata": {
    "vscode": {
     "languageId": "shellscript"
    }
   },
   "outputs": [],
   "source": [
    "# it can get kind of ugly because comm wants numbers sorted as though they are text\n",
    "comm <( { seq 1 5 ; seq 11 15 ; } | sort ) <( seq 6 15 | sort ) | sort -n"
   ]
  },
  {
   "cell_type": "code",
   "execution_count": null,
   "metadata": {
    "vscode": {
     "languageId": "shellscript"
    }
   },
   "outputs": [],
   "source": [
    "# perform an inner join between two files\n",
    "head -3 /etc/passwd /etc/group\n",
    "echo\n",
    "echo '==> join'\n",
    "join -t: -1 4 -2 3 <( sort -t: -k4,4 /etc/passwd) <( sort -t: -k3,3 /etc/group ) | head -3"
   ]
  },
  {
   "cell_type": "code",
   "execution_count": null,
   "metadata": {
    "vscode": {
     "languageId": "shellscript"
    }
   },
   "outputs": [],
   "source": [
    "# split files into smaller files\n",
    "## split /etc/password into files with two lines each (`-l 2`), having the name prefixed with \"zfoo.\", \n",
    "## and having numerical suffixes (`-d`) that are 3 digits (`-a 3`)\n",
    "cd /tmp\n",
    "split -l 2 -a 3 -d /etc/passwd zfoo.\n",
    "wc zfoo*\n",
    "wc /etc/passwd\n",
    "md5sum /etc/passwd <( cat zfoo.* )"
   ]
  },
  {
   "attachments": {},
   "cell_type": "markdown",
   "metadata": {},
   "source": [
    "## Example of adding up 1..1e7, i.e. 10 million numbers\n"
   ]
  },
  {
   "cell_type": "markdown",
   "metadata": {},
   "source": [
    "This generates parameters (`1 10_000_000`) for the `seq` command, removes the `_` from the input, generates a list of 10 million numbers with one per line,\n",
    "combines them with a `+` character, and pipes them to `bc` to add up.\n",
    "\n",
    "Notice all the tools that are being used:\n",
    "- `echo` and `seq` to generate data\n",
    "- `|` to pipe the output of one command as input to the next\n",
    "- `tr` to modify input data\n",
    "- `xargs` to read input and apply a command to it\n",
    "- `paste` to combine lines with a delimeter\n",
    "- `bc` to act on the input data\n",
    "\n"
   ]
  },
  {
   "attachments": {},
   "cell_type": "markdown",
   "metadata": {},
   "source": [
    "```\n",
    "$ time -p echo 1 10_000_000 | tr -d _ | xargs seq  | paste -sd + | bc\n",
    "5000000050000000\n",
    "real 82.98\n",
    "user 93.41\n",
    "sys 17.36\n",
    "```"
   ]
  },
  {
   "cell_type": "code",
   "execution_count": null,
   "metadata": {
    "id": "8Ra4jsw4nPCz",
    "vscode": {
     "languageId": "shellscript"
    }
   },
   "outputs": [],
   "source": [
    "# a sample of what happens below before piping into `bc`\n",
    "echo 1 1_0 | tr -d _ | xargs seq | paste -sd +\n",
    "\n",
    "time -p echo 1 10_000_000 | tr -d _ | xargs seq  | paste -sd + | bc\n"
   ]
  },
  {
   "cell_type": "code",
   "execution_count": null,
   "metadata": {
    "vscode": {
     "languageId": "shellscript"
    }
   },
   "outputs": [],
   "source": []
  }
 ],
 "metadata": {
  "colab": {
   "authorship_tag": "ABX9TyMgETyq1djkYsooNe9OTJFZ",
   "provenance": []
  },
  "kernelspec": {
   "display_name": "Bash",
   "language": "bash",
   "name": "bash"
  },
  "language_info": {
   "codemirror_mode": "shell",
   "file_extension": ".sh",
   "mimetype": "text/x-sh",
   "name": "bash"
  }
 },
 "nbformat": 4,
 "nbformat_minor": 4
}
